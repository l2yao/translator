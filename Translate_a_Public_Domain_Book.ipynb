{
  "cells": [
    {
      "cell_type": "markdown",
      "metadata": {
        "id": "view-in-github",
        "colab_type": "text"
      },
      "source": [
        "<a href=\"https://colab.research.google.com/github/l2yao/translator/blob/main/Translate_a_Public_Domain_Book.ipynb\" target=\"_parent\"><img src=\"https://colab.research.google.com/assets/colab-badge.svg\" alt=\"Open In Colab\"/></a>"
      ]
    },
    {
      "cell_type": "markdown",
      "metadata": {
        "id": "KLHiTPXNTf2a"
      },
      "source": [
        "##### Copyright 2024 Google LLC."
      ]
    },
    {
      "cell_type": "code",
      "execution_count": null,
      "metadata": {
        "cellView": "form",
        "id": "oTuT5CsaTigz"
      },
      "outputs": [],
      "source": [
        "# @title Licensed under the Apache License, Version 2.0 (the \"License\");\n",
        "# you may not use this file except in compliance with the License.\n",
        "# You may obtain a copy of the License at\n",
        "#\n",
        "# https://www.apache.org/licenses/LICENSE-2.0\n",
        "#\n",
        "# Unless required by applicable law or agreed to in writing, software\n",
        "# distributed under the License is distributed on an \"AS IS\" BASIS,\n",
        "# WITHOUT WARRANTIES OR CONDITIONS OF ANY KIND, either express or implied.\n",
        "# See the License for the specific language governing permissions and\n",
        "# limitations under the License."
      ]
    },
    {
      "cell_type": "markdown",
      "metadata": {
        "id": "-LiUeU4em33f"
      },
      "source": [
        "# Gemini API: Translate a public domain book"
      ]
    },
    {
      "cell_type": "markdown",
      "metadata": {
        "id": "D7KnozoY6B3I"
      },
      "source": [
        "<table class=\"tfo-notebook-buttons\" align=\"left\">\n",
        "  <td>\n",
        "    <a target=\"_blank\" href=\"https://colab.research.google.com/github/google-gemini/cookbook/blob/main/examples/Translate_a_Public_Domain_Book.ipynb\"><img src = \"../images/colab_logo_32px.png\"/>Run in Google Colab</a>\n",
        "  </td>\n",
        "</table>"
      ]
    },
    {
      "cell_type": "markdown",
      "metadata": {
        "id": "SRKGwj7Cu2CU"
      },
      "source": [
        "In this notebook, you will explore Gemini model as a translation tool, demonstrating how to prepare data, create effective prompts, and save results into a `.txt` file.\n",
        "\n",
        "This approach significantly improves knowledge accessibility. Various sources provide open-source books. In this notebook, you will use [Project Gutenberg](https://www.gutenberg.org/) as a resource.\n",
        "\n",
        "\n",
        "This platform provides access to a wide range of books available for free download in PDF, eBook, TXT formats and more."
      ]
    },
    {
      "cell_type": "code",
      "execution_count": null,
      "metadata": {
        "id": "Gq_NixYDpsLN"
      },
      "outputs": [],
      "source": [
        "!pip install -U -q \"google-generativeai>=0.7.2\" tqdm"
      ]
    },
    {
      "cell_type": "code",
      "execution_count": null,
      "metadata": {
        "id": "9fxS1iFpEVTH"
      },
      "outputs": [],
      "source": [
        "import google.generativeai as genai\n",
        "\n",
        "from tqdm import tqdm\n",
        "from IPython.display import Markdown"
      ]
    },
    {
      "cell_type": "markdown",
      "metadata": {
        "id": "FQOGMejVu-6D"
      },
      "source": [
        "## Configure your API key\n",
        "\n",
        "To run the following cell, your API key must be stored in a Colab Secret named `GOOGLE_API_KEY`. If you don't already have an API key, or you're not sure how to create a Colab Secret, see [Authentication](https://github.com/google-gemini/cookbook/blob/main/quickstarts/Authentication.ipynb) for an example.\n"
      ]
    },
    {
      "cell_type": "code",
      "execution_count": null,
      "metadata": {
        "id": "ysayz8skEfBW"
      },
      "outputs": [],
      "source": [
        "from google.colab import userdata\n",
        "GOOGLE_API_KEY=userdata.get('GOOGLE_API_KEY')\n",
        "\n",
        "genai.configure(api_key=GOOGLE_API_KEY)"
      ]
    },
    {
      "cell_type": "markdown",
      "metadata": {
        "id": "m1WJgnNmv8uM"
      },
      "source": [
        "## Data preparation"
      ]
    },
    {
      "cell_type": "markdown",
      "metadata": {
        "id": "Quunix4gwB-7"
      },
      "source": [
        "You will translate a well-known book written by Arthur Conan Doyle from Polish (trans. Eugenia Żmijewska) to English about the detective Sherlock Holmes. Here are the titles in Polish and English:\n",
        "\n",
        "\n",
        "\n",
        "* Polish Title: *Tajemnica Baskerville'ów: dziwne przygody Sherlocka Holmes*\n",
        "\n",
        "* English Title: *The Hound of the Baskervilles*"
      ]
    },
    {
      "cell_type": "code",
      "source": [
        "from google.colab import drive\n",
        "drive.mount('/content/drive')"
      ],
      "metadata": {
        "colab": {
          "base_uri": "https://localhost:8080/"
        },
        "id": "3hUUwU3XTkcW",
        "outputId": "5ea9e0fb-f14f-4ce6-bae0-86aa948d2d5d"
      },
      "execution_count": null,
      "outputs": [
        {
          "output_type": "stream",
          "name": "stdout",
          "text": [
            "Mounted at /content/drive\n"
          ]
        }
      ]
    },
    {
      "cell_type": "code",
      "execution_count": null,
      "metadata": {
        "id": "pPbU4n4CAEKu"
      },
      "outputs": [],
      "source": [
        "with open(\"/content/drive/MyDrive/Translation/chengde/book1.txt\") as f:\n",
        "      book = f.read()"
      ]
    },
    {
      "cell_type": "markdown",
      "metadata": {
        "id": "-hPhMBNLNiH-"
      },
      "source": [
        "Books contain all sorts of fictional or historical descriptions, some of them rather literal and might cause the model to stop from performing translation query. To prevent some of those exceptions users are able to change `safety_setting` from default to more open approach."
      ]
    },
    {
      "cell_type": "markdown",
      "metadata": {
        "id": "i_xbb7Ce_NI9"
      },
      "source": [
        "Go ahead and initialize the Gemini 1.5 Flash model for this task."
      ]
    },
    {
      "cell_type": "code",
      "execution_count": null,
      "metadata": {
        "id": "iMFiWDxUPd5u"
      },
      "outputs": [],
      "source": [
        "model = genai.GenerativeModel('gemini-2.0-flash-exp')\n",
        "\n",
        "def generate_output(prompt):\n",
        "    response = model.generate_content(\n",
        "        prompt,\n",
        "        request_options = {\n",
        "            \"timeout\": 1000\n",
        "        }\n",
        "    )\n",
        "\n",
        "    try:\n",
        "        return response.text\n",
        "    except Exception as ex:\n",
        "        raise ex"
      ]
    },
    {
      "cell_type": "markdown",
      "metadata": {
        "id": "HKdF4PQxGRlZ"
      },
      "source": [
        "Begin by counting how many tokens are in the book to know if you need to proceed with the next step (split text into smaller chunks)."
      ]
    },
    {
      "cell_type": "markdown",
      "metadata": {
        "id": "XSxTHrcNJ3Te"
      },
      "source": [
        "## Token Information\n",
        "\n",
        "LLMs are constrained by token limits. In order to stay within the limit of Gemini 1.5 Flash, it's important to ensure the following:\n",
        "\n",
        "* Input token limit should not exceed: 1,048,576 tokens\n",
        "* Output token limit should not exceed: 8,192 tokens\n",
        "\n",
        "Since input chunks of post-translation text will serve as outputs, it's advisable to split them into smaller segments.\n",
        "\n",
        "As you will see in the example, there are over 1000 small chunks. Calling API for the token count of each one would take a long time. Because of this estimate 1 token is equal to 4 characters will be used.\n",
        "\n",
        "To account for the possible miscalculation of tokens and output potentially being longer than input each chunk will use up to 4*5000 characters. Remember to adjust the maximum to your needs.\n",
        "\n",
        "For more details on tokens in Gemini models, refer to the documentation [here](https://ai.google.dev/gemini-api/docs/models/gemini\n",
        ")."
      ]
    },
    {
      "cell_type": "markdown",
      "metadata": {
        "id": "SFdNjziVXKI2"
      },
      "source": [
        "### Split text into chunks\n",
        "Adjust the number of whitespace characters used for splitting based on the book you are working with.\n",
        "\n",
        "Then, ensure to consider token limitations to receive complete responses from the model.\n"
      ]
    },
    {
      "cell_type": "code",
      "execution_count": null,
      "metadata": {
        "id": "-0Su5klXZH-w",
        "outputId": "455c55a3-4b9b-4f33-836e-14dca6ecf035",
        "colab": {
          "base_uri": "https://localhost:8080/"
        }
      },
      "outputs": [
        {
          "output_type": "stream",
          "name": "stdout",
          "text": [
            "Number of chunks: 51\n"
          ]
        }
      ],
      "source": [
        "chunks = book.split(\"\\n\\n\")\n",
        "\n",
        "num_chunks = len(chunks)\n",
        "print(f\"Number of chunks: {num_chunks}\")"
      ]
    },
    {
      "cell_type": "code",
      "execution_count": null,
      "metadata": {
        "id": "iptclxMgLxjC",
        "outputId": "597c3463-98a1-463c-e1b8-e477d7896379",
        "colab": {
          "base_uri": "https://localhost:8080/"
        }
      },
      "outputs": [
        {
          "output_type": "stream",
          "name": "stdout",
          "text": [
            "[515, 0, 539, 1252, 7, 14978, 7, 15714, 10, 15085, 10, 15833, 14, 15678, 14, 17483, 18, 12821, 25, 12918, 16, 14508, 38, 12174, 30, 13744, 30, 14133, 25, 13462, 44, 14425, 26, 12875, 26, 13685, 26, 14926, 26, 13289, 0, 26, 14759, 26, 13874, 27, 14520, 27, 13250, 27, 13480]\n"
          ]
        }
      ],
      "source": [
        "estimated_token_counts = []\n",
        "\n",
        "for chunk in chunks:\n",
        "    estimated_token_count = len(chunk)\n",
        "    estimated_token_counts.append(estimated_token_count)\n",
        "\n",
        "# You can print number of estimated tokens in each non empty chunk to see what are you working with\n",
        "print(estimated_token_counts)"
      ]
    },
    {
      "cell_type": "markdown",
      "metadata": {
        "id": "QfEScOTMgZbx"
      },
      "source": [
        "# Identify the largest number of tokens in a chunk to check if any exceed your token limitations. In this case, the chunks are very small, so this should not be an issue.\n",
        "\n",
        "If you encounter this problem, consider splitting the text into even smaller chunks."
      ]
    },
    {
      "cell_type": "code",
      "execution_count": null,
      "metadata": {
        "id": "q0EtN8D6ynXi",
        "outputId": "290a6a8e-ec8c-4172-926b-a0132f1b02f9",
        "colab": {
          "base_uri": "https://localhost:8080/"
        }
      },
      "outputs": [
        {
          "output_type": "execute_result",
          "data": {
            "text/plain": [
              "17483"
            ]
          },
          "metadata": {},
          "execution_count": 58
        }
      ],
      "source": [
        "max(estimated_token_counts)"
      ]
    },
    {
      "cell_type": "markdown",
      "metadata": {
        "id": "ozz3zNX-3VVL"
      },
      "source": [
        "### Group smaller chunks together\n",
        "As observed above, certain chunks contain very few tokens. While the LLM can translate these sentences accurately, providing larger context can enhance its understanding of the content.\n",
        "\n",
        "Let's combine smaller chunks into larger ones for improved results."
      ]
    },
    {
      "cell_type": "code",
      "source": [
        "def split_chunk(chunk, max_len=6000):\n",
        "    result = []\n",
        "    index = 0\n",
        "    while index < len(chunk):\n",
        "      start = index\n",
        "      if index + max_len < len(chunk):\n",
        "        end = chunk.rfind(\"。\", index, index + max_len) + 1\n",
        "      else:\n",
        "        end = len(chunk)\n",
        "      result.append(chunk[start:end])\n",
        "      index = end\n",
        "\n",
        "    return result\n",
        "\n",
        "def chunk_splitting(chunks, max_len=6000):\n",
        "    result = []\n",
        "    for chunk in chunks:\n",
        "      result.extend(split_chunk(chunk, max_len))\n",
        "    return result"
      ],
      "metadata": {
        "id": "Lw8fFGQkq-WE"
      },
      "execution_count": null,
      "outputs": []
    },
    {
      "cell_type": "code",
      "execution_count": null,
      "metadata": {
        "id": "SlWJtNgS6AdW"
      },
      "outputs": [],
      "source": [
        "# Combine short chunks into larger groups based on token counts.\n",
        "def chunk_grouping(chunks, token_counts, max_len=6000):\n",
        "    grouped_chunks = []\n",
        "    current_group = \"\"\n",
        "    current_token_sum = 0\n",
        "\n",
        "    # Process each chunk and group them based on token limits\n",
        "    for index in range(len(chunks)):\n",
        "        chunk = chunks[index]\n",
        "        count = token_counts[index]\n",
        "        if token_counts[index] == 0:\n",
        "            continue\n",
        "\n",
        "        current_group += \"\\n\\n\" + chunk\n",
        "        current_token_sum += count  # Count in 1 token for newlines\n",
        "        # Add a new chunk if there is space available in the current group.\n",
        "        if current_token_sum + 1 + count > max_len:\n",
        "            grouped_chunks.append(current_group)\n",
        "            current_group = \"\"\n",
        "            current_token_sum = 0\n",
        "\n",
        "\n",
        "    return grouped_chunks\n",
        "\n",
        "\n",
        "grouped_chunks = chunk_grouping(chunks, estimated_token_counts)\n",
        "\n",
        "final_chunks = chunk_splitting(grouped_chunks)"
      ]
    },
    {
      "cell_type": "code",
      "source": [
        "for chunk in final_chunks:\n",
        "    print(len(chunk))"
      ],
      "metadata": {
        "colab": {
          "base_uri": "https://localhost:8080/"
        },
        "id": "v-Bnj9WM6yvw",
        "outputId": "9481267c-5bb8-464e-e149-662142eccf27"
      },
      "execution_count": null,
      "outputs": [
        {
          "output_type": "stream",
          "name": "stdout",
          "text": [
            "5987\n",
            "5972\n",
            "5342\n",
            "5973\n",
            "5988\n",
            "3764\n",
            "5985\n",
            "5934\n",
            "3180\n",
            "5982\n",
            "5953\n",
            "3912\n",
            "5978\n",
            "5968\n",
            "3750\n",
            "5978\n",
            "5996\n",
            "5527\n",
            "5995\n",
            "5985\n",
            "863\n",
            "5998\n",
            "5994\n",
            "955\n",
            "5956\n",
            "5974\n",
            "2598\n",
            "5994\n",
            "5996\n",
            "226\n",
            "5986\n",
            "5987\n",
            "1805\n",
            "5989\n",
            "5992\n",
            "2186\n",
            "5931\n",
            "5984\n",
            "1576\n",
            "5968\n",
            "5974\n",
            "2531\n",
            "6000\n",
            "5953\n",
            "952\n",
            "5975\n",
            "5984\n",
            "1756\n",
            "5962\n",
            "5983\n",
            "3011\n",
            "5997\n",
            "5976\n",
            "1346\n",
            "5985\n",
            "5980\n",
            "2824\n",
            "5992\n",
            "5959\n",
            "1953\n",
            "5989\n",
            "5967\n",
            "2595\n",
            "5999\n",
            "5986\n",
            "1296\n",
            "5964\n",
            "5998\n",
            "1549\n"
          ]
        }
      ]
    },
    {
      "cell_type": "markdown",
      "metadata": {
        "id": "2RcTf9Q9cubd"
      },
      "source": [
        "The last step of splitting is checking if the non-estimated token counts are acceptable."
      ]
    },
    {
      "cell_type": "code",
      "execution_count": null,
      "metadata": {
        "id": "j1rqKAplctEI",
        "outputId": "c4836f96-6446-4e8f-ccdf-3cddb8314e8e",
        "colab": {
          "base_uri": "https://localhost:8080/",
          "height": 1000
        }
      },
      "outputs": [
        {
          "output_type": "execute_result",
          "data": {
            "text/plain": [
              "[3719,\n",
              " 3561,\n",
              " 3613,\n",
              " 1716,\n",
              " 3609,\n",
              " 3638,\n",
              " 3563,\n",
              " 583,\n",
              " 3612,\n",
              " 3645,\n",
              " 3487,\n",
              " 156,\n",
              " 3587,\n",
              " 3615,\n",
              " 3645,\n",
              " 638,\n",
              " 3534,\n",
              " 3618,\n",
              " 3638,\n",
              " 516,\n",
              " 3508,\n",
              " 3639,\n",
              " 3595,\n",
              " 1806,\n",
              " 3539,\n",
              " 3703,\n",
              " 2147,\n",
              " 3631,\n",
              " 3567,\n",
              " 2217,\n",
              " 3616,\n",
              " 3589,\n",
              " 3276,\n",
              " 3692,\n",
              " 3721,\n",
              " 1670,\n",
              " 3741,\n",
              " 3684,\n",
              " 2802,\n",
              " 3760,\n",
              " 3720,\n",
              " 3233,\n",
              " 3531,\n",
              " 3668,\n",
              " 2581,\n",
              " 3698,\n",
              " 3687,\n",
              " 3395,\n",
              " 3699,\n",
              " 3729,\n",
              " 2186,\n",
              " 3764,\n",
              " 3702,\n",
              " 2781,\n",
              " 3728,\n",
              " 3678,\n",
              " 3678,\n",
              " 3619,\n",
              " 3695,\n",
              " 2498,\n",
              " 3617,\n",
              " 3571,\n",
              " 3585,\n",
              " 3688,\n",
              " 3648,\n",
              " 2923,\n",
              " 3628,\n",
              " 3613,\n",
              " 3420,\n",
              " 3634,\n",
              " 3662,\n",
              " 2445,\n",
              " 3690,\n",
              " 3680,\n",
              " 2650]"
            ]
          },
          "metadata": {},
          "execution_count": 83
        }
      ],
      "source": [
        "token_counts = []\n",
        "for chunk in final_chunks:\n",
        "  response = model.count_tokens(chunk,\n",
        "                                request_options = {'timeout': 600})\n",
        "  token_count = response.total_tokens\n",
        "  token_counts.append(token_count)\n",
        "token_counts"
      ]
    },
    {
      "cell_type": "markdown",
      "metadata": {
        "id": "RqNZ-JameFOx"
      },
      "source": [
        "Despite using estimates, this split minimizes the calls necessary to translate the book well, and most chunks are of similar token counts to each other."
      ]
    },
    {
      "cell_type": "markdown",
      "metadata": {
        "id": "B3GFZw6viwO7"
      },
      "source": [
        "## Translation\n",
        "\n",
        "Your book is ready for translations! The selected book has been divided into 13 larger chunks."
      ]
    },
    {
      "cell_type": "markdown",
      "metadata": {
        "id": "BkbGQUWsj28i"
      },
      "source": [
        "### Prompt\n",
        "\n",
        "Specify the original language of your book and the language you would like it to be translated into.\n"
      ]
    },
    {
      "cell_type": "code",
      "execution_count": null,
      "metadata": {
        "id": "ZkA6L5URdFl9"
      },
      "outputs": [],
      "source": [
        "def translations(text,\n",
        "                 inputLanguage='Chinese',\n",
        "                 targetLanguage='English'):\n",
        "\n",
        "    translation_prompt = f\"\"\"\n",
        "    As a professional book translator,\n",
        "    translate the following book from {inputLanguage} into {targetLanguage}.\n",
        "\n",
        "    Book to Translate:\n",
        "    {text}\n",
        "\n",
        "    \"\"\"\n",
        "\n",
        "    return translation_prompt"
      ]
    },
    {
      "cell_type": "markdown",
      "metadata": {
        "id": "1RhRUwcgkZRe"
      },
      "source": [
        "### Translate chunks\n",
        "\n",
        "The translation time depends on the amount of text being processed. Our selected book was 318 KB and the entire translation took 20 minutes.\n",
        "\n",
        "Please note that larger texts may take several hours to complete."
      ]
    },
    {
      "cell_type": "code",
      "execution_count": null,
      "metadata": {
        "id": "2jiU5EJ02-KT",
        "outputId": "2421f962-5b28-40b2-b42e-3b421629ddd2",
        "colab": {
          "base_uri": "https://localhost:8080/",
          "height": 35
        }
      },
      "outputs": [
        {
          "output_type": "stream",
          "name": "stderr",
          "text": [
            "100%|██████████| 69/69 [35:43<00:00, 31.07s/it]\n"
          ]
        }
      ],
      "source": [
        "results = []\n",
        "index = 0\n",
        "translation = None\n",
        "\n",
        "for chunk in tqdm(final_chunks):\n",
        "    try:\n",
        "        translation = generate_output(translations(chunk))\n",
        "        results.append(translation)\n",
        "    except Exception as ex:\n",
        "        print(f\"\\nChunk was not included in translation due to possible sensitive content. Text: {chunk}\")\n",
        "\n",
        "    index += 1"
      ]
    },
    {
      "cell_type": "markdown",
      "metadata": {
        "id": "YL96QOTLP6nh"
      },
      "source": [
        "All done, now you can print the chunk before and after translation to see the results.\n",
        "\n",
        "You can see, that translation effectively maintains the narrative's novel quality, proper grammar and sentence structure.\n",
        "\n",
        "Next step will be joining chunks together and saving the translated book."
      ]
    },
    {
      "cell_type": "code",
      "execution_count": null,
      "metadata": {
        "id": "FBM8YeghZUaQ",
        "outputId": "83ea7d76-c85a-452b-8b9a-bdcabe065071",
        "colab": {
          "base_uri": "https://localhost:8080/",
          "height": 1000
        }
      },
      "outputs": [
        {
          "output_type": "execute_result",
          "data": {
            "text/plain": [
              "<IPython.core.display.Markdown object>"
            ],
            "text/markdown": "\n\n﻿編者序\n「望子成龍，望女成鳳」，是每位家長的期盼；「為天下得人」，是每位教育工作者的志願。如何才能成為自己的孩子、自己的學生，乃至身邊所有人生命中的貴人，用愛與智慧的心燈，照亮彼此的一生？\n二０一三年七月，中國教師發展基金會、國家教師科研基金「十二五」規劃重點課題「中國學校法制教育行動研究」總課題組，在南京舉辦了「學習傳統文化 做有道德的教育者」校長培訓班，蔡禮旭老師受邀義務演講，主題是「做孩子一生的貴人」，一共六課時。因在南京的演講尚未圓滿，蔡老師返回馬來西亞中華文化教育中心後，每週六繼續錄製此套課程，計有十七課時。因而此主題演講共二十三課時。\n蔡老師以一顆真誠無私的愛心，將自身深入中華五千年教育智慧的心得，以及十多年弘揚文化、培育人才的經驗，毫無保留地奉獻給大眾。此次課程，是繼《幸福人生講座》、《細講弟子規》之後，蔡老師的又一菁華演講，不但值得所有家長及教育工作者細細體味，也值得所有為員工的幸福和大眾的感動而奮鬥的企業家、團隊領導者參考。\n鑒於此，敝講記組根據蔡老師演講文字稍加整理，以饗讀者。若有內容匯整不當、或文字訛誤之處，祈望諸位仁者不吝賜教。\n  馬來西亞中華文化教育中心 講記圖書組\n二０一四年七月一日\n\n\n目錄\n做孩子一生的貴人提綱\n第一講 釋題\n第二講 釋題\n第三講 生命的意義\n第四講 人類的苦難\n第五講 建國君民，教學為先\n第六講 建國君民，教學為先\n第七講 師道尊嚴：一、教師的重要性\n第八講 師道尊嚴：二、尊師方能重道；三、振興師道\n第九講 師道尊嚴：三、振興師道\n第十講 師道尊嚴：三、振興師道；教育工作者的典範──至聖先師：一、孔子治學\n第十一講 教育工作者的典範──至聖先師：二、孔子為師之風範\n第十二講 教育工作者的典範──至聖先師：二、孔子為師之風範\n第十三講 自我教育的重要性：一、教育者首先受教育\n第十四講 自我教育的重要性：一、教育者首先受教育；二、勇於改過；三、嚴以律己，寬以待人\n第十五講 自我教育的重要性：三 嚴以律己，寬以待人\n第十六講 自我教育的重要性：三、嚴以律己，寬以待人\n第十七講 自我教育的重要性：三、嚴以律己，寬以待人\n第十八講 自我教育的重要性：四、敦倫盡分，閑邪存誠\n第十九講 自我教育的重要性：四、敦倫盡分，閑邪存誠\n第二十講 自我教育的重要性：四、敦倫盡分，閑邪存誠\n第二十一講 自我教育的重要性：四、敦倫盡分，閑邪存誠\n第二十二講 自我教育的重要性：四、敦倫盡分，閑邪存誠\n第二十三講 自我教育的重要性：四、敦倫盡分，閑邪存誠\n\n\n做孩子一生的貴人提綱\n壹 釋題\n貳 生命的意義\n參 人類的苦難\n肆 建國君民 教學為先\n伍 師道尊嚴\n   一 教師的重要性\n1. 不知禮義不可以行法 （《群書治要360》第218句）\n2. 玉不琢不成器\n3. 古之學者 比物醜類 （《禮記‧學記》）\n4. 師哉師哉 童子之命也\n5. 文化承傳\n   二 尊師方能重道\n1. 凡學之道 嚴師為難 （《禮記‧學記》）\n2. 是故古之聖王未有不尊師也，尊師則不論貴賤貧富矣（《群書治要360》第250句）\n3. 一分誠敬得一分利益 十分誠敬得十分利益 有狀元學生，沒有狀元老師\n4. 孝親是尊師的基礎\n5. 古今對比\n   三 振興師道\n1. 自重而後人重\n2. 夫知為人子 （《群書治要360》第177句）\n3. 知本分──傳道、授業、解惑\n4. 安貧樂道 為國育才\n5. 自我提升\n陸 教育工作者的典範──至聖先師\n   一 孔子治學\n1. 述而不作 信而好古 （《論語‧述而第七》）\n2. 子曰 吾十有五而志於學 （《論語‧為政第二》）\n3. 十室之邑 （《論語‧公冶長第五》）\n4. 子曰 不曰如之何者 （《論語‧衛靈公第十五》）\n知之者不如好之者 （《論語‧雍也第六》）\n5. 子曰 由 誨女知之乎 （《論語‧為政第二》）\n6. 君子食無求飽 （《論語‧學而第一》）   士志於道 （《論語‧里仁第四》）\n7. 德之不修 （《論語‧述而第七》）\n8. 學而不思則罔 （《論語‧為政第二》）\n9. 子曰 三人行必有我師焉 （《論語‧述而第七》）\n10. 賜也 汝以予為多學而識之者 （《論語‧衛靈公第十五》）\n   二 孔子為師之風範\n1. 智慧\n   1. 務本\n   2. 看得深遠\n   3. 禁於未發\n   4. 因材施教\n   5. 機會教育\n   6. 相觀而善\n2. 仁德\n   1. 以身作則\n   2. 慈悲心\n   3. 有教無類\n3. 勇氣\n4. 行儀\n柒 自我教育的重要性\n   一 教育者首先受教育\n1. 君子務本 本立而道生\n2. 融得性情上偏私 便是一大學問 消得家庭內嫌隙 便是一大經綸\n3. 起心動念不自欺\n4. 放下對立、控制、佔有\n   二 勇於改過\n1. 恥心\n2. 畏心\n3. 勇心\n   三 嚴以律己 寬以待人\n1. 嚴以律己\n   1. 不貪\n   2. 不瞋\n   3. 不痴\n   4. 不慢\n   5. 不疑\n2. 寬以待人\n   1. 設身處地\n   2. 不計較\n   3. 厚道\n   四 敦倫盡份 閑邪存誠\n     1.作之君 作之親 作之師\n    （1）君：以身作則 使命感 大公無私 知人善任 納諫\n    （2）親：養育 高度信任 不棄不捨 不求回報\n    （3）師：道統承傳 培養民族棟梁 開人智慧\n2.人臣本分\n    （1）四種主動\n    （2）務本\n    （3）立節 盡忠 勸諫 舉賢\n3.正確的思想觀念\n    （1）對人\n    （2）對事\n    （3）對物\n\n\n第一講 釋題\n\n\n尊敬的葉總賢伉儷、莫祕書長、陳老師，諸位教育界的同道們，諸位長輩、兄弟姐妹們，大家早上好！\n看到諸位校長，諸位教育界的同道，內心非常的喜悅。孔子說，「有朋自遠方來，不亦樂乎？」而我們講台上的背景圖，是油菜花田，數以千萬計的美麗的花朵，讓我們感受到諸位校長同道們，是為了孩子一生幸福的人生在用心，在著想。諸位校長的這份用心，一定會在孩子的人生當中開花結果，就像這片油菜花田一樣。在諸位校長背後，可能影響的是幾萬、幾十萬孩子的人生幸福。所以今天跟大家交流的題目，是「做孩子一生的貴人」。\n而從昨天到了我們南京居美馨教育中心，一直都在感動當中。像昨天晚上大家自我介紹，其實有一句俗話講，「人生得一知己，死而無憾」，在聽著校長們的自我分享，我們可以感覺到，在這裡會遇到很多知音，會有一種惺惺相惜的感覺。而且又會體會到，經典告訴我們的，「德不孤，必有鄰」、「四海之內皆兄弟」。而且今天這個緣分，我們走在這個弘揚聖賢教育的路上，會形成一個教學的團隊。我們一百多個人，大家一起同心協力，以後有好的經驗、好的例子都可以互相分享，那個力量是非常非常大的。\n我們以前一個人孤軍奮戰，現在結識到我們祖國大地所有的志士仁人，對教育非常有使命的校長們，大家共聚一堂，這是非常殊勝的緣分。所謂「知緣、惜緣（珍惜這個緣分）、造緣」，造我們往後所有學校老師、同仁、孩子們幸福人生的緣。「知恩、感恩、報恩」，我們感恩我們南京居美馨教育中心，對於整個聖賢教育的弘揚、整個教育的未來，他們有一份使命感，良苦用心，在暑假期間辦了這樣的課程。我們也感謝主辦單位，我們教育部中國教師發展基金會，國家教師科研基金，這個課題小組，跟我們居美馨中心一起合辦這樣的因緣，這背後有這些負責人非常多的良苦、非常多的用心。包含我們整個居美馨工作的團隊，我們每天要吃好、睡好，對生活種種的照顧，多虧我們居美馨團隊給我們的照顧。\n所以我們知恩，知道背後這麼多人的付出，我們遇到工作人員，我們要露出燦爛的微笑，感謝他們的付出。不只在這裡，我們回到學校，感謝所有老師同仁，大家同心協力的付出，也感謝所有家長對學校的支持，我們都活在感恩的世界裡。\n事實上，人只要心存感恩，他決定是一個幸福的人。那知恩、感恩，接著什麼？報恩。透過自己的提升，在學校的落實，能夠真正把倫理道德教育在自己的學校紮根、弘揚開，讓自己的學校成為我們中國落實倫理道德教育的示範學校，這樣叫光照神州大地。我們已經有榜樣了，像吉林松花江中學，他們一個王琦老師在自己的班上用心的做，不為名也不為利，就希望給孩子好的未來。大家想一想，一個人的真心能夠發揮多大的作用？可能很難想像。就像一顆種子落到土壤裡，它生根、發芽、茁壯了，它又結了很多的果實，這些果實裡面又有種子。可能一顆種子最後結的果實、結的種子，有上千上萬，再落到地上，又成為一棵棵大樹。這顆種子就是人的一個善心，就是對教育的一個使命，它會產生非常非常大的作用。\n王琦老師他就是一個很好的例子、樣板，他一個人把一個班帶好了。呂杰校長也是非常有心的校長，當他經過這個班級，覺得這個班級的孩子非常專注，不會受外面的影響，讓他印象深刻。升旗的時候，看著這班的學生精神抖擻，都不會亂動，非常有威儀。留下的這些印象，讓他開始去了解，原來是王琦老師把中華傳統文化這些倫理道德的教育、孝道的教育、德行的教育融入了他的班級。他非常歡喜感動，就從這一個班，在他全校推展。\n由於他全校推展，德行提升得很快。剛好那一年高考在他們學校，學校一進門就有一個孔子像。因為學校是考場，非常多的學校的學生都來了，不只是松花江的學生。可是只要是松花江的學生，都會恭恭敬敬的到孔子像面前鞠躬才進去。結果考試的教育官員，他就覺得怎麼有這些學生這麼恭敬給夫子像行禮？覺得是一道很美麗的風景線。後來一了解，全部都是松花江中學的孩子，所以教育界也開始重視他們學校。而那一年考出來的成績，他們本來優秀成績，差不多是另一個學校的一半，就是考得好的學生，本來是他們只有他們的一半。結果那一年考出來，他們學校是那個學校的兩倍。所以成績也提升得非常快。所以整個東北的教育界，也受到松花江中學的影響，他們稱為「松花江中學效應」。\n大家想一想，一個人能產生多大的作用？一個班能產生多大的作用？一個學校能產生多大的作用？願有多大，力量就有多大。所以我們老祖先教給我們的教誨，是人生的真理，每一個人這一生只要用心去感悟、去力行，每一個人都可以印證這些真理。就像《弟子規》最後一句話告訴我們的，「勿自暴，勿自棄，聖與賢，可馴致」。這個「致」就是我們這一生只要肯用心去做，就可以契入聖賢的境界，「可馴致」。\n《大學》開頭就告訴我們，「古之欲明明德於天下者」，這是胸懷天下的一種人生價值觀。「先治其國；欲治其國者，先齊其家」，我們現在有自己的家庭，還有我們學校這個大家庭。「欲齊其家者，先修其身；欲修其身者，先正其心」，心又是修身的根本。「欲修其身者，先正其心；欲正其心者，先誠其意；欲誠其意者，先致其知；致知在格物」。所以根本在哪？格物。物格而後知至，而後意誠、心正、身修、家齊、國治、天下平。而「格物」就是什麼？格除習性，格除物欲。人的煩惱愈輕，智慧就愈增長。\n現在的人物欲太重，「欲令智迷，利令智昏」。做的都是急功近利，甚至是刀頭舐蜜。一支刀前面有一滴蜂蜜，寧可去嘗個甜頭，也顧不到可能舌頭會被切斷。其實人類現在何嘗不是如此？短短的幾十年，已經讓一個美麗的地球，變成很多地方沒有辦法居住。尤其在江浙一帶，我們俗話講的，「上有天堂，下有蘇杭」。江浙一帶多少非常美麗的地方，我們回到小時候，水溝清澈，魚都在那裡游。現在呢？污染非常非常的快。科學家已經提出來，很多地區不能住人，甚至很多地區，本來是青山綠水的地方，污染到成為癌症的高危險區。那不是讓後代子孫連生活的地方都沒有了嗎？那這何嘗不是刀頭舐蜜？就為了嘗點甜頭，把舌頭給割了。就為了嘗點甜頭，急功近利把後代子孫都忽略掉了，都毀掉了。\n現在不是哪一個地區急功近利，現在是全世界都急功近利，被功利主義所污染。所以全世界都發生了同樣的問題：環境污染；再來，青少年犯罪率，這是全世界的問題，這提醒了人類，沒有好的下一代，人類還有未來嗎？可是人卻為了賺更多的錢，把人生最重要的教育下一代給忘記了。重利，輕義啊！老祖宗告訴我們，「不孝有三，無後為大」，所以人類現在不能只考慮眼前。\n我們為人父母、為人老師，這兩個身分，是天地間最尊貴的身分，我們對於孩子的人生影響最大。大家回想一下，一個小孩生出來，會講的第一句話是什麼？女士都說「媽媽」，男士都說「爸爸」。夫妻可不能因為這樣吵架。「先學爸爸」、「先學媽媽」，就吵了，這不行。夫妻和樂，對孩子一生人格的健康是有決定性的影響。\n從孩子牙牙學語，他剛會講話，講得很順，整句話可以講，請問十句裡面有幾句是「我爸爸說」、「我媽媽說」？不少句吧？我看超過一半。所以每一對父母都曾經是自己小孩的偶像，是不是？你們的孩子都是你們的粉絲。這叫天性。父母跟子女之間的親愛是天性。教育第一個最可貴的目標，就是讓「父子有親」這個孝道終身保持，這個人是天地之間最幸福的。這種感受，只有自己去做了才知道。當我們雙膝跪下，想著父母一生養育、教育的恩德，給父母磕頭。磕了三個頭，起來了，終於體會到，跪著磕頭比站著舒服太多了。那种跟自己內心性德的相應處，讓自己覺得心裡非常的喜悅，表達了我們對父母這種感恩之心。有幫父母洗過腳的人跟沒有洗過腳的是決定不一樣的。「學而時習之，不亦說乎」，做了的那種喜悅，自己一定可以感覺得到。\n我聽「天下父母」節目當中翟俊杰翟導演，他講的一句話讓人很感動。人家問他，他覺得人生最幸福的是什麼？他六十多歲了，他說：「我人生最幸福就是回到我的家，打開門，我能喊一聲娘。」大家聽到一個六十幾歲的老人說這樣的話，你們的腦海裡有沒有浮現什麼影像？六十幾歲的老人跟一兩歲走路還不大穩的孩子有沒有相應處？你有沒有看過一兩歲走路還不穩的孩子，突然看到爸爸媽媽，那個臉笑開花了，是吧？然後這樣邊走邊搖，「媽」，跑過去抱在媽媽的腿上、爸爸的腿上，好像他就是天底下最幸福的人，是吧？請問他有沒有錢？他有沒有地位？可是他是最快樂的人。可是我們現在有錢也有地位，笑得都沒有他燦爛，是不是？對呀，那值得我們思考很多問題。\n依照科學家的實驗結果，一個人一兩歲的時候，平均一天笑一百八十次。這個數字我認同，為什麼？剛好我的同事生了一個孩子，四個月，跟我是鄰居。首先第一個重點，他胎教做得不錯，他母親常常讀中華傳統文化的經典給他聽，所以不會吵。有時候會稍微鬧，讀經典給他聽他就不吵，很有效。再來，我常常都會進去看他，他的小名叫恕兒，「忠恕之道」，讓他終身奉行。您看有文化涵養的父母，他就知道給孩子的名字，包含給他人生的每一個引導，都要跟經典相應，利益他一生正確的思想觀念。我常去他們家裡看這個孩子，這個孩子平常沒有人跟他講話，他也會自己笑，呵呵呵就笑了。所以確確實實可以笑一百八十次。"
          },
          "metadata": {},
          "execution_count": 95
        }
      ],
      "source": [
        "Markdown(final_chunks[0])"
      ]
    },
    {
      "cell_type": "code",
      "execution_count": null,
      "metadata": {
        "id": "MjC04LezATAT",
        "outputId": "dc0b2ad0-6e04-47d4-941c-2f84f1acdf52",
        "colab": {
          "base_uri": "https://localhost:8080/",
          "height": 1000
        }
      },
      "outputs": [
        {
          "output_type": "execute_result",
          "data": {
            "text/plain": [
              "<IPython.core.display.Markdown object>"
            ],
            "text/markdown": "Okay, here's the English translation of the provided text, aiming for accuracy and a natural reading flow, while retaining the original tone:\n\n**Editor's Preface**\n\n\"Hoping one's son becomes a dragon, and one's daughter a phoenix,\" is the aspiration of every parent. \"To discover talent for the world\" is the ambition of every educator. How can we become the guiding light in the lives of our own children, our students, and even everyone around us, using the lamp of love and wisdom to illuminate each other’s path?\n\nIn July 2013, the China Teacher Development Foundation and the National Teacher Research Foundation, under the \"Twelfth Five-Year Plan\" key project, the “Action Research on Chinese School Legal Education,” organized a principal training class in Nanjing with the theme \"Learning Traditional Culture to Become Moral Educators.\" Mr. Cai Lixu was invited to give a free lecture on the topic \"Being a Guiding Light in a Child’s Life,\" which consisted of six class sessions. As the lectures in Nanjing were not yet complete, Mr. Cai continued to record this course every Saturday after returning to the Malaysian Chinese Cultural Education Center, adding another seventeen class sessions. Therefore, the total series of lectures on this topic comprised twenty-three sessions.\n\nWith a sincere and selfless heart, Mr. Cai has shared his profound understanding of the five thousand years of Chinese educational wisdom, as well as his over ten years of experience in promoting culture and nurturing talent, generously offering it to the public. This series of lectures is another brilliant presentation by Mr. Cai, following his \"Happy Life Lecture\" and \"Detailed Explanation of the *Di Zi Gui*.\" It is not only worth careful contemplation by all parents and educators, but also worthy of reference for entrepreneurs and team leaders who strive for the happiness of their employees and the inspiration of the public.\n\nIn light of this, our lecture notes team has slightly reorganized Mr. Cai's lecture transcripts for the benefit of our readers. We kindly ask that you, our esteemed readers, not hesitate to offer your valuable guidance if you find any improper compilation or textual errors.\n\nLecture Notes and Publications Team\nMalaysian Chinese Cultural Education Center\nJuly 1, 2014\n\n**Table of Contents**\n\nOutline for \"Being a Guiding Light in a Child's Life\"\n\nLecture 1: Explanation of the Topic\nLecture 2: Explanation of the Topic\nLecture 3: The Meaning of Life\nLecture 4: Human Suffering\nLecture 5: Establishing the Nation and Governing the People; Education First\nLecture 6: Establishing the Nation and Governing the People; Education First\nLecture 7: The Dignity of the Teaching Profession: I. The Importance of Teachers\nLecture 8: The Dignity of the Teaching Profession: II. Honoring Teachers Leads to Valuing the Way; III. Revitalizing the Teaching Profession\nLecture 9: The Dignity of the Teaching Profession: III. Revitalizing the Teaching Profession\nLecture 10: The Dignity of the Teaching Profession: III. Revitalizing the Teaching Profession; Role Model for Educators: The Supreme Sage Teacher: I. Confucius’s Approach to Learning\nLecture 11: Role Model for Educators: The Supreme Sage Teacher: II. Confucius’s Conduct as a Teacher\nLecture 12: Role Model for Educators: The Supreme Sage Teacher: II. Confucius’s Conduct as a Teacher\nLecture 13: The Importance of Self-Education: I. Educators Must First Educate Themselves\nLecture 14: The Importance of Self-Education: I. Educators Must First Educate Themselves; II. Courage to Correct One's Mistakes; III. Strict with Self, Lenient with Others\nLecture 15: The Importance of Self-Education: III. Strict with Self, Lenient with Others\nLecture 16: The Importance of Self-Education: III. Strict with Self, Lenient with Others\nLecture 17: The Importance of Self-Education: III. Strict with Self, Lenient with Others\nLecture 18: The Importance of Self-Education: IV. Fulfilling Moral Obligations, Restraining Evil, Preserving Sincerity\nLecture 19: The Importance of Self-Education: IV. Fulfilling Moral Obligations, Restraining Evil, Preserving Sincerity\nLecture 20: The Importance of Self-Education: IV. Fulfilling Moral Obligations, Restraining Evil, Preserving Sincerity\nLecture 21: The Importance of Self-Education: IV. Fulfilling Moral Obligations, Restraining Evil, Preserving Sincerity\nLecture 22: The Importance of Self-Education: IV. Fulfilling Moral Obligations, Restraining Evil, Preserving Sincerity\nLecture 23: The Importance of Self-Education: IV. Fulfilling Moral Obligations, Restraining Evil, Preserving Sincerity\n\nOutline for “Being a Guiding Light in a Child’s Life”\n\nI. Explanation of the Topic\nII. The Meaning of Life\nIII. Human Suffering\nIV. Establishing the Nation and Governing the People; Education First\nV. The Dignity of the Teaching Profession\n   I. The Importance of Teachers\n      1. Without understanding ritual and righteousness, one cannot practice law. (*Qun Shu Zhi Yao 360*, sentence 218)\n      2. Jade must be cut and polished to become a useful object.\n      3. Ancient scholars compared things to classify them. (*Book of Rites, Record of Learning*)\n      4. O Teacher, O Teacher, you hold the fate of the child.\n      5. Cultural Transmission\n   II. Honoring Teachers Leads to Valuing the Way\n      1. In the way of learning, a strict teacher is difficult to find. (*Book of Rites, Record of Learning*)\n      2. Therefore, ancient sage kings invariably honored their teachers. When teachers are honored, rank, wealth, and poverty are not considered. (*Qun Shu Zhi Yao 360*, sentence 250)\n      3. One part sincerity and respect yields one part benefit; ten parts sincerity and respect yield ten parts benefit. There are top-scoring students, but not top-scoring teachers.\n      4. Filial piety to parents is the foundation for respecting teachers.\n      5. Contrast between the past and present.\n   III. Revitalizing the Teaching Profession\n      1. Only by respecting oneself will others respect you.\n      2. Truly understanding what it means to be someone's child. (*Qun Shu Zhi Yao 360*, sentence 177)\n      3. Understanding one's duty – imparting the Way, teaching skills, and resolving doubts.\n      4. Content with poverty, joyful in the Way, cultivating talent for the nation.\n      5. Self-improvement.\nVI. Role Model for Educators: The Supreme Sage Teacher\n   I. Confucius’s Approach to Learning\n      1. Relaying, not creating; believing in and loving the ancient. (*Analects, Shu Er, Book VII*)\n      2. The Master said, “At fifteen, I set my heart on learning.” (*Analects, Wei Zheng, Book II*)\n      3. Even in a village of ten households. (*Analects, Gong Ye Chang, Book V*)\n      4. The Master said, “Those who do not ask, ‘What shall I do?’” (*Analects, Wei Ling Gong, Book XV*)\n          Knowing it is not as good as loving it. (*Analects, Yong Ye, Book VI*)\n      5. The Master said to You, \"Shall I teach you what it means to know?\" (*Analects, Wei Zheng, Book II*)\n      6. A noble person does not seek to fill his belly. (*Analects, Xue Er, Book I*) A scholar should set his mind on the Way. (*Analects, Li Ren, Book IV*)\n      7. If one does not cultivate virtue. (*Analects, Shu Er, Book VII*)\n      8. Learning without thinking is confusion. (*Analects, Wei Zheng, Book II*)\n      9. The Master said, “When walking in a party of three, there must be one I can learn from.” (*Analects, Shu Er, Book VII*)\n      10. Si, do you think I am someone who has learned much and remembers it? (*Analects, Wei Ling Gong, Book XV*)\n   II. Confucius’s Conduct as a Teacher\n      1. Wisdom\n           1. Focus on the root.\n           2. Possess far-sighted vision.\n           3. Forbid things before they happen.\n           4. Teach according to individual aptitude.\n           5. Seize opportunities for education.\n           6. Learn from one another.\n      2. Benevolence and Virtue\n           1. Lead by example.\n           2. Have a compassionate heart.\n           3. Teach all without discrimination.\n      3. Courage\n      4. Conduct\nVII. The Importance of Self-Education\n   I. Educators Must First Educate Themselves\n      1. A noble person works on the root, and when the root is established, the Way will arise.\n      2. To dissolve personal biases in temperament is a great learning; to resolve conflicts within the family is a great undertaking.\n      3. Don't deceive yourself in your thoughts and actions.\n      4. Let go of opposition, control, and possession.\n   II. Courage to Correct One's Mistakes\n      1. A sense of shame.\n      2. A sense of fear.\n      3. Courageous heart.\n   III. Strict with Self, Lenient with Others\n      1. Strict with Self\n           1. Do not be greedy.\n           2. Do not be angry.\n           3. Do not be foolish.\n           4. Do not be arrogant.\n           5. Do not be doubtful.\n      2. Lenient with Others\n           1. Put yourself in their place.\n           2. Do not be calculative.\n           3. Be kind.\n   IV. Fulfilling Moral Obligations, Restraining Evil, Preserving Sincerity\n      1. Act as a ruler, act as a parent, act as a teacher.\n            (1) Ruler: lead by example, sense of mission, selfless, know how to identify talent, accept advice.\n            (2) Parent: nurture, have a high degree of trust, do not give up, do not seek reward.\n            (3) Teacher: transmit the Way, cultivate pillars of the nation, awaken wisdom.\n      2. The Duty of a Minister\n           (1) Four types of initiative.\n           (2) Focus on the root.\n           (3) Uphold integrity, be loyal, offer admonishments, and recommend the virtuous.\n      3. Correct Thoughts and Concepts\n           (1) Towards people.\n           (2) Towards matters.\n           (3) Towards things.\n\n**Lecture 1: Explanation of the Topic**\n\nRespected Mr. and Mrs. Ye, Secretary-General Mo, Teacher Chen, fellow educators, esteemed elders, brothers and sisters, good morning to you all!\n\nIt is a great joy to see all of you principals and fellow educators here. Confucius said, \"It is a pleasure to have friends coming from afar.\" The backdrop on our stage is a field of rapeseed flowers. The countless beautiful blooms remind us that all of you principals and educators are diligently working and thinking for the happiness of children's lives. Your dedication will surely blossom in the lives of the children, like this rapeseed field. Behind each of you principals, you may be influencing the happiness of tens of thousands, or even hundreds of thousands of children's lives. Therefore, the topic I will be discussing with you today is \"Being a Guiding Light in a Child's Life.\"\n\nSince arriving at the Nanjing Ju Meixin Education Center yesterday, I have been continually moved. Last night, during everyone's self-introductions, a common saying came to mind: \"To have one true friend in life is enough to die without regret.\" Listening to the principals share, I felt that here, we have met many kindred spirits; there is a sense of deep understanding and appreciation for one another. I also experienced what the classics tell us: \"Virtue is never alone, it is bound to have neighbors\" and \"all within the four seas are brothers.\" Furthermore, today's gathering is an opportunity for us to form a teaching team on the path of promoting sage education. Over a hundred of us will join hands and work together. We can share our good experiences and examples with each other, and that power will be truly immense.\n\nIn the past, we fought alone. Now we have met all of these like-minded people from across our motherland, these principals who have a deep sense of mission for education. It is a truly extraordinary gathering. As the saying goes, \"understand the affinity, cherish the affinity, create the affinity,\" and this will create happiness for the teachers, colleagues, and children in all of our schools. We also have the principle of \"know gratitude, feel gratitude, repay gratitude.\" We are grateful to the Nanjing Ju Meixin Education Center for its commitment to promoting sage education and the future of education. They have a deep sense of mission and have put in so much effort to organize this course during the summer holiday. We also appreciate the organizers, the China Teacher Development Foundation under the Ministry of Education, the National Teacher Research Foundation, and this project team, who have worked together with the Ju Meixin Center to bring about this gathering. Behind it all are these dedicated people, with their great care and consideration. In addition, the entire Ju Meixin staff takes good care of us, ensuring we eat and sleep well. We are truly grateful for everything.\n\nTherefore, knowing the gratitude, knowing the effort made by so many people, whenever we meet a staff member, we should show a bright smile to thank them for their contribution. And not just here; back in our schools, let’s thank all the teachers and colleagues for working together, and thank all the parents for their support of the school. We are all living in a world of gratitude.\n\nIn fact, as long as a person has a grateful heart, they are bound to be happy. Knowing gratitude, feeling gratitude, what follows is? Repaying gratitude. Through our own self-improvement, and by putting it into practice in our schools, we can truly establish and promote ethics and moral education, making our schools models of schools implementing ethics and moral education in China. This is called illuminating the vast land of China. We already have role models, like Teacher Wang Qi from Songhua River Middle School in Jilin. She devotedly worked in her class, neither seeking fame nor gain, simply hoping to give her children a good future. Just imagine, how much power can one person's sincerity unleash? It might be hard to imagine. It’s like a seed falling into the soil. It roots, it sprouts, it grows strong, and then bears much fruit. And in these fruits, there are more seeds. One single seed can eventually produce many fruits and many seeds, which fall onto the ground and grow into more big trees. That seed is a person's good heart, a mission for education. It can create immense power.\n\nTeacher Wang Qi is a great example, a role model. She single-handedly managed her class extremely well. Principal Lu Jie is also a very dedicated principal. When he passed by her class, he noticed how focused the children were and how unaffected they were by external distractions. It left a deep impression on him. During the flag-raising ceremony, he saw that her students were vibrant and orderly, without any restless movements, and had a commanding presence. These impressions led him to investigate. He discovered that Teacher Wang Qi had incorporated traditional Chinese culture, including ethics and moral education, filial piety, and character development, into her teaching. He was overjoyed and moved, and decided to promote this from one class to the entire school.\n\nBecause the school implemented the initiative school-wide, character improved very quickly. By chance, that year's national college entrance exam was held at their school. Upon entering the school gate, there was a statue of Confucius. As it was an exam site, many students from different schools came, not just those from Songhua River Middle School. But all the students from Songhua River Middle School respectfully bowed to the statue of Confucius before entering. The education officials in charge of the exam were surprised to see these students bowing so reverently to the statue of Confucius. They thought it was a beautiful sight. After making inquiries, they discovered that all these students were from Songhua River Middle School, and that's how their school began to gain attention from the educational community. That year, the school's results on the college entrance exam dramatically improved. Their usual percentage of high scoring students had been about half of that of another school. But that year, they surpassed that other school by a factor of two. Thus their academic performance rapidly improved. And the entire educational community in Northeast China was influenced by Songhua River Middle School. It became known as the \"Songhua River Middle School Effect.\"\n\nJust think, how much impact can one person create? How much impact can one class create? How much impact can one school create? The greater the aspiration, the greater the power. Our ancestors taught us principles that are the truth of life. Every person can verify these truths as long as they truly contemplate and practice them. Just as the last sentence in the *Di Zi Gui* tells us, “Do not give up on yourself, do not abandon yourself. With diligence, one can reach the level of a sage or a worthy.” The word \"reach\" means that as long as we are willing to put our heart into it, we can achieve the realm of sages and worthies.\n\nThe opening lines of *The Great Learning* tells us, \"In ancient times, those who wished to illuminate their luminous virtue throughout the world,\" which demonstrates a world-embracing perspective on the values of life. \"First governed their nation; those who wished to govern their nation, first ordered their families.\" We now have our own families, and our schools, which are also great families. \"Those who wished to order their families, first cultivated their personal lives; those who wished to cultivate their personal lives, first rectified their hearts,\" and the heart is the basis of personal cultivation. “Those who wished to rectify their hearts, first made their intentions sincere; those who wished to make their intentions sincere, first extended their knowledge; the extension of knowledge lies in the investigation of things.\" So, where does the foundation lie? Investigating things. When things are investigated, then knowledge is extended, then intentions are made sincere, then the heart is rectified, then personal life is cultivated, then the family is ordered, then the nation is governed, and then the world is at peace. And the \"investigation of things\" means what? It means eliminating bad habits and eliminating material desires. The lighter a person's troubles are, the greater their wisdom will grow.\n\nPeople today have too many material desires; \"desire obscures wisdom, profit makes one lose their senses.\" They pursue quick results and immediate benefits. They are like tasting honey on the edge of a knife. They would rather take a taste of sweetness, neglecting the fact that their tongue might be cut off. In fact, isn’t this what humanity is doing now? In just a few short decades, they have turned a beautiful planet into many places that are uninhabitable. Especially in the Jiangsu and Zhejiang regions, as the saying goes, \"In heaven, there is paradise, and on Earth, there is Suzhou and Hangzhou.\" How many beautiful places were there in the Jiangsu and Zhejiang area. When we were children, the ditches were clear, and fish were swimming there. And now? The pollution is rapid and severe. Scientists have already pointed out that many regions are uninhabitable, and some areas, which used to be beautiful mountains and clear waters, have been polluted into high-risk areas for cancer. Isn't this depriving future generations of their place to live? Isn’t this like tasting honey on the edge of a knife? Just for a little bit of sweetness, the tongue is cut off. Just for a little bit of sweetness, immediate gain takes priority, neglecting and destroying future generations.\n\nNow, it’s not just one area that is pursuing quick results; it’s the entire world that is pursuing quick results and is being polluted by utilitarianism. That's why the whole world is facing similar problems: environmental pollution, and also rising juvenile crime rates. This is a problem worldwide, reminding humanity that without a good next generation, will humanity even have a future? Yet people are pursuing money and have forgotten about the most important thing in life: educating the next generation. They value profit over righteousness! Our ancestors taught us that, \"Among the three acts of unfilial piety, not having descendants is the greatest.\" Humanity cannot just think about the present moment.\n\nAs parents and as teachers, our two roles are the most honorable on Earth. We have the greatest impact on our children's lives. Think back, what is the first word a child learns to say? Women will say \"Mama,\" and men will say \"Papa.\" Husbands and wives should not fight about this. “Learning 'Papa' first,” or “learning ‘Mama’ first,” arguing over this is not okay. Harmony between husband and wife has a decisive influence on a child’s lifelong healthy personality.\n\nFrom the time a child starts babbling, when they can finally speak fluently and can speak whole sentences, out of ten sentences, how many are “my dad said,” or “my mom said?” Quite a few, right? I think more than half. So, every parent was once the idol of their child, right? Your children are your fans. This is innate. The love between parents and children is innate. The most precious goal of education is to maintain the filial love between parent and child for the rest of their lives. This person is the happiest in the world. This feeling can only be known through experience. When we kneel down, thinking of our parents’ lifelong care and education, and kowtow to them, having kowtowed three times, we can finally understand that kneeling and kowtowing is so much more comfortable than standing. That connection to the innate virtue within brings great joy and expresses our gratitude towards our parents. The feeling of having washed a parent’s feet is definitely different from that of not having done so. “To learn something and practice it regularly, isn’t it a joy?” The joy of putting something into practice can definitely be felt.\n\nI was very touched by a statement made by director Zhai Junjie on the “Parents All Over the World” program. Someone asked him what he felt was the most happiness in life, and he, being over sixty years of age, said, \"The greatest happiness in my life is returning to my home, opening the door, and being able to call out 'Mother'.\" When hearing a man in his sixties saying such words, do you visualize anything? Is there a similarity between a man in his sixties and a toddler who can’t even walk steadily? Have you seen toddlers, who can't yet walk very steadily, suddenly see their parents and burst into a smile? They teeter as they walk, calling “Mama,” and run to hug their mother’s or father's legs, as if they are the happiest people on Earth, right? Do they have money? Do they have status? But they are the happiest people. Yet, we, who have money and status, don't smile as brightly as they do, right? Yes, this makes us think a lot.\n\nAccording to scientific experiments, one to two-year-olds smile an average of one hundred and eighty times a day. I believe this number is correct. Why? Just recently my colleague had a child, who is four months old, and we are neighbors. The first key point is that he did a good job with prenatal education. His mother often read classical traditional Chinese texts to him, so he doesn’t cry. Sometimes he fusses a little, but as soon as she reads the classics to him, he stops crying. It’s very effective. Furthermore, I often go visit him. His nickname is Shuer, meaning \"the way of loyalty and forgiveness,\" to encourage him to practice it throughout his life. You see, parents with a cultural foundation know that they should give their child a name that reflects the classics. They should guide his life with teachings that align with the classics, benefiting his entire life with correct thinking. I often visit this child at their home. Even when no one is talking to him, he smiles to himself. He just chuckles. So it’s definitely true that they can smile one hundred and eighty times.\n\nThat's the translation. I hope this is helpful! Please let me know if you have any other requests.\n"
          },
          "metadata": {},
          "execution_count": 96
        }
      ],
      "source": [
        "Markdown(results[0])"
      ]
    },
    {
      "cell_type": "code",
      "execution_count": null,
      "metadata": {
        "id": "jXlAr8smUzV_"
      },
      "outputs": [],
      "source": [
        "translated_texts = [result for result in results]\n",
        "\n",
        "# join the results together by double whitespace\n",
        "translated_book = \"\\n\\n\".join(translated_texts)\n",
        "\n",
        "# save the translated book\n",
        "with open(f\"/content/translated_book.txt\", \"w\") as f:\n",
        "  f.write(translated_book)"
      ]
    },
    {
      "cell_type": "markdown",
      "metadata": {
        "id": "eA-ro5jwk_uw"
      },
      "source": [
        "## Next steps\n",
        "\n",
        "Now you know how to properly prepare data, check token limitations and translate each chunk to obtain your results. Feel free to try this process with a book that interests you!"
      ]
    }
  ],
  "metadata": {
    "colab": {
      "provenance": [],
      "include_colab_link": true
    },
    "kernelspec": {
      "display_name": "Python 3",
      "name": "python3"
    }
  },
  "nbformat": 4,
  "nbformat_minor": 0
}