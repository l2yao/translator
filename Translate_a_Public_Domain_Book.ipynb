{
  "cells": [
    {
      "cell_type": "markdown",
      "metadata": {
        "colab_type": "text",
        "id": "view-in-github"
      },
      "source": [
        "<a href=\"https://colab.research.google.com/github/l2yao/translator/blob/main/Translate_a_Public_Domain_Book.ipynb\" target=\"_parent\"><img src=\"https://colab.research.google.com/assets/colab-badge.svg\" alt=\"Open In Colab\"/></a>"
      ]
    },
    {
      "cell_type": "markdown",
      "metadata": {
        "id": "KLHiTPXNTf2a"
      },
      "source": [
        "##### Copyright 2024 Google LLC."
      ]
    },
    {
      "cell_type": "code",
      "execution_count": null,
      "metadata": {
        "cellView": "form",
        "id": "oTuT5CsaTigz"
      },
      "outputs": [],
      "source": [
        "# @title Licensed under the Apache License, Version 2.0 (the \"License\");\n",
        "# you may not use this file except in compliance with the License.\n",
        "# You may obtain a copy of the License at\n",
        "#\n",
        "# https://www.apache.org/licenses/LICENSE-2.0\n",
        "#\n",
        "# Unless required by applicable law or agreed to in writing, software\n",
        "# distributed under the License is distributed on an \"AS IS\" BASIS,\n",
        "# WITHOUT WARRANTIES OR CONDITIONS OF ANY KIND, either express or implied.\n",
        "# See the License for the specific language governing permissions and\n",
        "# limitations under the License."
      ]
    },
    {
      "cell_type": "markdown",
      "metadata": {
        "id": "-LiUeU4em33f"
      },
      "source": [
        "# Gemini API: Translate a public domain book"
      ]
    },
    {
      "cell_type": "markdown",
      "metadata": {
        "id": "D7KnozoY6B3I"
      },
      "source": [
        "<table class=\"tfo-notebook-buttons\" align=\"left\">\n",
        "  <td>\n",
        "    <a target=\"_blank\" href=\"https://colab.research.google.com/github/google-gemini/cookbook/blob/main/examples/Translate_a_Public_Domain_Book.ipynb\"><img src = \"../images/colab_logo_32px.png\"/>Run in Google Colab</a>\n",
        "  </td>\n",
        "</table>"
      ]
    },
    {
      "cell_type": "markdown",
      "metadata": {
        "id": "SRKGwj7Cu2CU"
      },
      "source": [
        "In this notebook, you will explore Gemini model as a translation tool, demonstrating how to prepare data, create effective prompts, and save results into a `.txt` file.\n",
        "\n",
        "This approach significantly improves knowledge accessibility. Various sources provide open-source books. In this notebook, you will use [Project Gutenberg](https://www.gutenberg.org/) as a resource.\n",
        "\n",
        "\n",
        "This platform provides access to a wide range of books available for free download in PDF, eBook, TXT formats and more."
      ]
    },
    {
      "cell_type": "code",
      "execution_count": 1,
      "metadata": {
        "id": "Gq_NixYDpsLN"
      },
      "outputs": [],
      "source": [
        "!pip install -U -q \"google-generativeai>=0.7.2\" tqdm"
      ]
    },
    {
      "cell_type": "code",
      "execution_count": 2,
      "metadata": {
        "id": "9fxS1iFpEVTH"
      },
      "outputs": [],
      "source": [
        "import google.generativeai as genai\n",
        "\n",
        "from tqdm import tqdm\n",
        "from IPython.display import Markdown"
      ]
    },
    {
      "cell_type": "markdown",
      "metadata": {
        "id": "FQOGMejVu-6D"
      },
      "source": [
        "## Configure your API key\n",
        "\n",
        "To run the following cell, your API key must be stored in a Colab Secret named `GOOGLE_API_KEY`. If you don't already have an API key, or you're not sure how to create a Colab Secret, see [Authentication](https://github.com/google-gemini/cookbook/blob/main/quickstarts/Authentication.ipynb) for an example.\n"
      ]
    },
    {
      "cell_type": "code",
      "execution_count": 3,
      "metadata": {
        "id": "ysayz8skEfBW"
      },
      "outputs": [],
      "source": [
        "from google.colab import userdata\n",
        "GOOGLE_API_KEY=userdata.get('GOOGLE_API_KEY')\n",
        "\n",
        "genai.configure(api_key=GOOGLE_API_KEY)"
      ]
    },
    {
      "cell_type": "markdown",
      "metadata": {
        "id": "m1WJgnNmv8uM"
      },
      "source": [
        "## Data preparation"
      ]
    },
    {
      "cell_type": "markdown",
      "metadata": {
        "id": "Quunix4gwB-7"
      },
      "source": [
        "You will translate a well-known book written by Arthur Conan Doyle from Polish (trans. Eugenia Żmijewska) to English about the detective Sherlock Holmes. Here are the titles in Polish and English:\n",
        "\n",
        "\n",
        "\n",
        "* Polish Title: *Tajemnica Baskerville'ów: dziwne przygody Sherlocka Holmes*\n",
        "\n",
        "* English Title: *The Hound of the Baskervilles*"
      ]
    },
    {
      "cell_type": "code",
      "execution_count": 4,
      "metadata": {
        "id": "pPbU4n4CAEKu"
      },
      "outputs": [],
      "source": [
        "with open(\"book1.txt\") as f:\n",
        "      book = f.read()"
      ]
    },
    {
      "cell_type": "markdown",
      "metadata": {
        "id": "-hPhMBNLNiH-"
      },
      "source": [
        "Books contain all sorts of fictional or historical descriptions, some of them rather literal and might cause the model to stop from performing translation query. To prevent some of those exceptions users are able to change `safety_setting` from default to more open approach."
      ]
    },
    {
      "cell_type": "markdown",
      "metadata": {
        "id": "i_xbb7Ce_NI9"
      },
      "source": [
        "Go ahead and initialize the Gemini 1.5 Flash model for this task."
      ]
    },
    {
      "cell_type": "code",
      "execution_count": 5,
      "metadata": {
        "id": "iMFiWDxUPd5u"
      },
      "outputs": [],
      "source": [
        "model = genai.GenerativeModel('gemini-2.0-flash')\n",
        "\n",
        "def generate_output(prompt):\n",
        "    response = model.generate_content(\n",
        "        prompt,\n",
        "        request_options = {\n",
        "            \"timeout\": 1000\n",
        "        }\n",
        "    )\n",
        "\n",
        "    try:\n",
        "        return response.text\n",
        "    except Exception as ex:\n",
        "        raise ex"
      ]
    },
    {
      "cell_type": "markdown",
      "metadata": {
        "id": "HKdF4PQxGRlZ"
      },
      "source": [
        "Begin by counting how many tokens are in the book to know if you need to proceed with the next step (split text into smaller chunks)."
      ]
    },
    {
      "cell_type": "markdown",
      "metadata": {
        "id": "XSxTHrcNJ3Te"
      },
      "source": [
        "## Token Information\n",
        "\n",
        "LLMs are constrained by token limits. In order to stay within the limit of Gemini 1.5 Flash, it's important to ensure the following:\n",
        "\n",
        "* Input token limit should not exceed: 1,048,576 tokens\n",
        "* Output token limit should not exceed: 8,192 tokens\n",
        "\n",
        "Since input chunks of post-translation text will serve as outputs, it's advisable to split them into smaller segments.\n",
        "\n",
        "As you will see in the example, there are over 1000 small chunks. Calling API for the token count of each one would take a long time. Because of this estimate 1 token is equal to 4 characters will be used.\n",
        "\n",
        "To account for the possible miscalculation of tokens and output potentially being longer than input each chunk will use up to 4*5000 characters. Remember to adjust the maximum to your needs.\n",
        "\n",
        "For more details on tokens in Gemini models, refer to the documentation [here](https://ai.google.dev/gemini-api/docs/models/gemini\n",
        ")."
      ]
    },
    {
      "cell_type": "markdown",
      "metadata": {
        "id": "SFdNjziVXKI2"
      },
      "source": [
        "### Split text into chunks\n",
        "Adjust the number of whitespace characters used for splitting based on the book you are working with.\n",
        "\n",
        "Then, ensure to consider token limitations to receive complete responses from the model.\n"
      ]
    },
    {
      "cell_type": "code",
      "execution_count": 6,
      "metadata": {
        "colab": {
          "base_uri": "https://localhost:8080/"
        },
        "id": "-0Su5klXZH-w",
        "outputId": "31f79fc8-4f88-433d-b9c3-a26c04a35845"
      },
      "outputs": [
        {
          "name": "stdout",
          "output_type": "stream",
          "text": [
            "Number of chunks: 2\n"
          ]
        }
      ],
      "source": [
        "chunks = book.split(\"\\n\\n\")\n",
        "\n",
        "num_chunks = len(chunks)\n",
        "print(f\"Number of chunks: {num_chunks}\")"
      ]
    },
    {
      "cell_type": "code",
      "execution_count": 7,
      "metadata": {
        "colab": {
          "base_uri": "https://localhost:8080/"
        },
        "id": "iptclxMgLxjC",
        "outputId": "4733bb6c-5b90-47ab-fe7b-35586c8ba33e"
      },
      "outputs": [
        {
          "name": "stdout",
          "output_type": "stream",
          "text": [
            "[18, 31700]\n"
          ]
        }
      ],
      "source": [
        "estimated_token_counts = []\n",
        "\n",
        "for chunk in chunks:\n",
        "    estimated_token_count = len(chunk)\n",
        "    estimated_token_counts.append(estimated_token_count)\n",
        "\n",
        "# You can print number of estimated tokens in each non empty chunk to see what are you working with\n",
        "print(estimated_token_counts)"
      ]
    },
    {
      "cell_type": "markdown",
      "metadata": {
        "id": "QfEScOTMgZbx"
      },
      "source": [
        "# Identify the largest number of tokens in a chunk to check if any exceed your token limitations. In this case, the chunks are very small, so this should not be an issue.\n",
        "\n",
        "If you encounter this problem, consider splitting the text into even smaller chunks."
      ]
    },
    {
      "cell_type": "code",
      "execution_count": 8,
      "metadata": {
        "colab": {
          "base_uri": "https://localhost:8080/"
        },
        "id": "q0EtN8D6ynXi",
        "outputId": "ae415b4d-8d05-4ab8-a644-0d2e70585316"
      },
      "outputs": [
        {
          "data": {
            "text/plain": [
              "31700"
            ]
          },
          "execution_count": 8,
          "metadata": {},
          "output_type": "execute_result"
        }
      ],
      "source": [
        "max(estimated_token_counts)"
      ]
    },
    {
      "cell_type": "markdown",
      "metadata": {
        "id": "ozz3zNX-3VVL"
      },
      "source": [
        "### Group smaller chunks together\n",
        "As observed above, certain chunks contain very few tokens. While the LLM can translate these sentences accurately, providing larger context can enhance its understanding of the content.\n",
        "\n",
        "Let's combine smaller chunks into larger ones for improved results."
      ]
    },
    {
      "cell_type": "code",
      "execution_count": 9,
      "metadata": {
        "id": "Lw8fFGQkq-WE"
      },
      "outputs": [],
      "source": [
        "def split_chunk(chunk, max_len=6000):\n",
        "    result = []\n",
        "    index = 0\n",
        "    while index < len(chunk):\n",
        "      start = index\n",
        "      if index + max_len < len(chunk):\n",
        "        end = chunk.rfind(\"。\", index, index + max_len) + 1\n",
        "      else:\n",
        "        end = len(chunk)\n",
        "      result.append(chunk[start:end])\n",
        "      index = end\n",
        "\n",
        "    return result\n",
        "\n",
        "def chunk_splitting(chunks, max_len=6000):\n",
        "    result = []\n",
        "    for chunk in chunks:\n",
        "      result.extend(split_chunk(chunk, max_len))\n",
        "    return result"
      ]
    },
    {
      "cell_type": "code",
      "execution_count": 10,
      "metadata": {
        "id": "SlWJtNgS6AdW"
      },
      "outputs": [],
      "source": [
        "# Combine short chunks into larger groups based on token counts.\n",
        "def chunk_grouping(chunks, token_counts, max_len=6000):\n",
        "    grouped_chunks = []\n",
        "    current_group = \"\"\n",
        "    current_token_sum = 0\n",
        "\n",
        "    # Process each chunk and group them based on token limits\n",
        "    for index in range(len(chunks)):\n",
        "        chunk = chunks[index]\n",
        "        count = token_counts[index]\n",
        "        if token_counts[index] == 0:\n",
        "            continue\n",
        "\n",
        "        current_group += \"\\n\\n\" + chunk\n",
        "        current_token_sum += count  # Count in 1 token for newlines\n",
        "        # Add a new chunk if there is space available in the current group.\n",
        "        if current_token_sum + 1 + count > max_len:\n",
        "            grouped_chunks.append(current_group)\n",
        "            current_group = \"\"\n",
        "            current_token_sum = 0\n",
        "\n",
        "\n",
        "    return grouped_chunks\n",
        "\n",
        "\n",
        "grouped_chunks = chunk_grouping(chunks, estimated_token_counts)\n",
        "\n",
        "final_chunks = chunk_splitting(grouped_chunks)"
      ]
    },
    {
      "cell_type": "markdown",
      "metadata": {
        "id": "2RcTf9Q9cubd"
      },
      "source": [
        "The last step of splitting is checking if the non-estimated token counts are acceptable."
      ]
    },
    {
      "cell_type": "code",
      "execution_count": 11,
      "metadata": {
        "colab": {
          "base_uri": "https://localhost:8080/",
          "height": 35
        },
        "id": "j1rqKAplctEI",
        "outputId": "26db7b7c-c7df-40f2-9bee-1939370a4210"
      },
      "outputs": [
        {
          "data": {
            "text/plain": [
              "[5088, 5576, 5579, 5590, 5335, 1486]"
            ]
          },
          "execution_count": 11,
          "metadata": {},
          "output_type": "execute_result"
        }
      ],
      "source": [
        "token_counts = []\n",
        "for chunk in final_chunks:\n",
        "  response = model.count_tokens(chunk,\n",
        "                                request_options = {'timeout': 600})\n",
        "  token_count = response.total_tokens\n",
        "  token_counts.append(token_count)\n",
        "token_counts"
      ]
    },
    {
      "cell_type": "markdown",
      "metadata": {
        "id": "RqNZ-JameFOx"
      },
      "source": [
        "Despite using estimates, this split minimizes the calls necessary to translate the book well, and most chunks are of similar token counts to each other."
      ]
    },
    {
      "cell_type": "markdown",
      "metadata": {
        "id": "B3GFZw6viwO7"
      },
      "source": [
        "## Translation\n",
        "\n",
        "Your book is ready for translations! The selected book has been divided into 13 larger chunks."
      ]
    },
    {
      "cell_type": "markdown",
      "metadata": {
        "id": "BkbGQUWsj28i"
      },
      "source": [
        "### Prompt\n",
        "\n",
        "Specify the original language of your book and the language you would like it to be translated into.\n"
      ]
    },
    {
      "cell_type": "code",
      "execution_count": 12,
      "metadata": {
        "id": "ZkA6L5URdFl9"
      },
      "outputs": [],
      "source": [
        "def translations(text,\n",
        "                 inputLanguage='Chinese',\n",
        "                 targetLanguage='English'):\n",
        "\n",
        "    translation_prompt = f\"\"\"\n",
        "    As a professional book translator,\n",
        "    translate the following book from {inputLanguage} into {targetLanguage}.\n",
        "\n",
        "    Only return the translation please.\n",
        "    \n",
        "    Book to Translate:\n",
        "    {text}\n",
        "\n",
        "    \"\"\"\n",
        "\n",
        "    return translation_prompt"
      ]
    },
    {
      "cell_type": "markdown",
      "metadata": {
        "id": "1RhRUwcgkZRe"
      },
      "source": [
        "### Translate chunks\n",
        "\n",
        "The translation time depends on the amount of text being processed. Our selected book was 318 KB and the entire translation took 20 minutes.\n",
        "\n",
        "Please note that larger texts may take several hours to complete."
      ]
    },
    {
      "cell_type": "code",
      "execution_count": 14,
      "metadata": {
        "colab": {
          "base_uri": "https://localhost:8080/",
          "height": 35
        },
        "id": "2jiU5EJ02-KT",
        "outputId": "31c1d5ef-6cc5-49aa-d499-c9186e938f47"
      },
      "outputs": [
        {
          "name": "stderr",
          "output_type": "stream",
          "text": [
            "100%|██████████| 6/6 [04:30<00:00, 45.11s/it]\n"
          ]
        }
      ],
      "source": [
        "results = []\n",
        "index = 0\n",
        "translation = None\n",
        "\n",
        "for chunk in tqdm(final_chunks):\n",
        "    try:\n",
        "        translation = generate_output(translations(chunk))\n",
        "        results.append(translation)\n",
        "    except Exception as ex:\n",
        "        print(f\"\\nChunk was not included in translation due to possible sensitive content. Text: {chunk}\")\n",
        "\n",
        "    index += 1"
      ]
    },
    {
      "cell_type": "markdown",
      "metadata": {
        "id": "YL96QOTLP6nh"
      },
      "source": [
        "All done, now you can print the chunk before and after translation to see the results.\n",
        "\n",
        "You can see, that translation effectively maintains the narrative's novel quality, proper grammar and sentence structure.\n",
        "\n",
        "Next step will be joining chunks together and saving the translated book."
      ]
    },
    {
      "cell_type": "code",
      "execution_count": 13,
      "metadata": {
        "colab": {
          "base_uri": "https://localhost:8080/",
          "height": 1000
        },
        "id": "FBM8YeghZUaQ",
        "outputId": "03954d27-49a6-4709-bc67-e70e390d25e0"
      },
      "outputs": [
        {
          "data": {
            "text/markdown": [
              "\n",
              "\n",
              "﻿修行语录\n",
              " \n",
              "高雄净宗学会辑录\n",
              " \n",
              "\n",
              "\n",
              " \n",
              "缘起\n",
              " \n",
              "佛法是人世间最伟大的宝藏，佛陀将宇宙人生的真相，因果报应的原理与追求健康幸福美满的人生，解脱六道轮回，了生脱死的方法，以究竟圆满，无上正等正觉的觉悟者的实证体认，全盘托出，教育一切后学，在现世得到安乐，临终得以解脱。\n",
              " \n",
              "然而，佛法从二、三年千年前在印度的正法时代，到东汉传入中国以后，进入了像法时代，到明末清初，进入了末法时代，佛陀早已预见了佛教的法运将会日趋衰败，因为末法时代人心更败坏，伦理更浇薄，天地世间的乱象将愈演愈烈，佛门的弊病更将每况愈下。然而，佛陀的教导并没有问题，佛法的精神与本质一点也没有改变，只是末法时代的众生业深障重，福薄慧浅，根机陋劣，弘法的人不识根机，教学有问题，学佛的人盲修瞎练，学习有问题，甚至邪魔外道混迹佛门，以似是而非的佛法，行沽名钓誉，搜括敛财之实，末法时代，邪师说法，如恒河沙，学佛人稍不小心，就容易悖离了佛教的精神与本质，掉入了邪恶的陷阱，沦为魔子魔孙而不自知。\n",
              " \n",
              "末法时代善知识难逢，明师难遇，到处是外表光鲜，言行不一的邪师，到处是以盲引盲，招徒蓄众的邪魔，学佛人如果不能明辨正邪，有所定见，就容易人云亦云，沾染魔见，走火入魔，陷自己于万劫不复的地步，这一点大家千万不可轻忽。\n",
              " \n",
              "其实，末法时代学佛最安全最保险的方法就是—‘以古为师’，以志节高超，名耀千古的历代祖师大德为师，以祖师大德的珍贵开示作为我们修行的座右铭。而距离我们这个时代最近，又最受大众景仰的首推—印光大师，因此，‘印光大师全集’、‘印光大师文钞菁华录’、‘印光大师全集问答撷录’等书，为有志学佛者当奉为圭臬，日日温习的宝典。常读印光大师文钞并依之努力实践，即是常亲近印光大师，即是印光大师的入门弟子，如此学佛，必能日起有功，稳操胜算！\n",
              " \n",
              "这本‘修行语录’是希望透过撷录佛陀在经典中开示的最要精华，配合历代祖师大德教诲的最要叮咛，让末法时代的吾辈陋劣凡夫，能在最短的时间内掌握住佛法的修行要点，依之实践，即可跟随佛陀与历代祖师的步伐，成功地走向安乐解脱的康庄大道！\n",
              " \n",
              "修行十大要点\n",
              " \n",
              "一、孝养父母\n",
              " \n",
              "佛教以孝为本，孝养父母是佛门的最大根本，也是做人最基本的要件，试想连乌鸦尚知反哺报恩，如果我们不能孝养父母，岂不是连禽兽也不如吗？\n",
              " \n",
              "父母是我们一生中最大的福田，孝养父母与孝养佛的功德无二无别，不能孝养父母是人生最大的过错，不孝之人是一点也谈不上学佛的资格。\n",
              " \n",
              "此外，劝父母信愿念佛，求生西方，永脱轮回生死之苦才是最究竟最圆满的孝道。\n",
              " \n",
              "二、恪尽本分\n",
              " \n",
              "人生世间，每个人都有自己应尽的本分与职责，学佛人应当在自己的工作岗位上精进努力，做家庭、社会、国家的模范榜样，能孝顺父母，教育子女，爱护家庭，利益社会，报效国家，方是真学佛人，逃避了自己应尽的职责，不能恪尽本分，侈言学佛，都是自欺欺人，学佛不可能有所成就。\n",
              " \n",
              "三、深信因果\n",
              " \n",
              "整个佛法的核心就是‘因果’二字，种了善因必得善果，种了恶因必得恶果，因果报应，丝毫不爽，不是不报，时候未到。学佛人当深信因果，以戒为师，日日反省，随时改过。\n",
              " \n",
              "此外，念佛人深信种了念佛的善因，必得成佛的善果，这是最最深奥的因果。\n",
              " \n",
              "四、戒杀吃素\n",
              " \n",
              "学佛人当诸恶莫作，将一切的罪恶行为努力断除。而所有的罪恶中，以杀生吃肉的罪恶最重，因为众生最宝贵的，无非自己的生命，杀它吃它，它最恼恨，怨仇结得最深，将来杀债杀报，血债血还，恶果最为惨烈，因此，诸恶莫作中以戒杀吃素为急！\n",
              " \n",
              "五、放生救命\n",
              " \n",
              "学佛人当众善奉行，任何的善事，只要有机会当努力实践。而所有的善行中，放生第一，因为放生是救急救命的行为，功德最大，非其他小善所能比拟。而众生最宝贵的，无非自己的生命，放它救它，它最感激，善缘结得最深，未来福德善报最不可思议，所以，众善奉行中以放生救命为先！\n",
              " \n",
              "六、竭诚尽敬\n",
              " \n",
              "诚心敬意是成就天下任何事业的基础，印光大师更教导我们要竭心尽力地把诚敬二字做到了极点，有一分诚敬，就有一分功德，有十分诚敬，就有十分功德，这是学佛成功与否的绝妙秘诀，大家绝对要谨记在心！\n",
              " \n",
              "七、发菩提心\n",
              " \n",
              "学佛的功德大小与自己的心量成正比，心量有多大，功德就有多大。因此学佛人的心量一定要大！做任何事绝不是为了自私自利！一定要从内心发真诚心，真实为利益一切众生。我们上求佛道，发心成佛后有能力要普渡众生；我们下化众生，发心有机缘一定要把佛法最精要的重点传播大众。\n",
              " \n",
              "此外，真正愿意念佛求生西方极乐世界的心，就是真正的发菩提心。\n",
              " \n",
              "八、拜佛忏悔\n",
              " \n",
              "我们累世以来所造作的罪业，若是有体有相，是尽虚空也装不下，我们其实只不过是个业障深重的浊恶凡夫罢了。因此，学佛人当发惭愧心及忏悔心，勤行礼佛，因为礼佛一拜，罪灭河沙，拜佛忏悔是表达我们诚心敬意，惭愧自省最好的方法。\n",
              " \n",
              "九、信愿念佛\n",
              " \n",
              "净土法门是依靠佛力救拔，信则信西方极乐世界有一尊阿弥陀佛，愿则愿意速生极乐世界，厌离此苦世界，行则老老实实执持一句‘南无阿弥陀佛’圣号，只要‘信愿行’三资粮具足，就可当生倚仗阿弥陀佛的大誓愿力救拔，超生脱死，永断轮回，是佛教一切法门中最深奥最奇妙最特别最方便的法门！\n",
              " \n",
              "照理说，一句‘阿弥陀佛’是靠佛力救拔，是绝对绝对保证往生西方的，但为什么当令念佛的人多，而真正往生西方的人却很少呢？\n",
              " \n",
              "这是一个非常严肃关键的问题，当今念佛人无法往生的关键在于—‘缺乏信愿，怕死，根本不愿往生。’当令念佛人念佛只是求长寿求健康求平安求富贵求顺遂，求世间一切利益，但绝不求往生西方！\n",
              " \n",
              "‘死’之一字即可勘验念佛人是否具足信愿。扪心自问，你怕不怕死？如果现在马上得死，马上阿弥陀佛就接你往生西方，你愿不愿意？一个真正厌离娑婆，欣求极乐的真念佛人，一定是视死如归，随时愿意早点跟随阿弥陀佛到西方极乐世界去的，是绝对不怕死，马上愿意死，马上愿意随时往生的。至于表里不一，假信虚愿的假念佛人，则是贪生怕死，不愿意死，不愿往生，求多活几年，有太多太多的理由牵绊敷衍。要知道，只此一怕死，不愿死，不愿求往生之心，即与阿弥陀佛的心相违逆，信愿行三资粮不具足，如何成功地往生西方呢？\n",
              " \n",
              "当今念佛人千有九百九十九多为假念佛人，‘死’之一字，当时时刻在心头，时时检验自己，只要念佛人不怕死，喜欢死，随时愿意死，随时愿意早一点往生极乐，就是真正的‘厌离娑婆，欣求极乐’的真念佛人，这种人千念千生，万念万生，绝无不生西方之人！\n",
              " \n",
              "十、实践力行\n",
              " \n",
              "佛法最重要的是实践，一个一字不识，完全不懂经教，只会吃素拜佛，老老实实执持一句‘阿弥陀佛’的老太婆，学佛的成就往往远胜于辩才无碍，精通三藏的大通家，关键即在于是否能够实践力行，能知不能行，犹如纸上谈兵，说食数宝，只是惘然！\n",
              " \n",
              "总而言之，学佛但求专精，最忌夹杂，只要掌握住要点努力实践，就能真正得到佛法的实益。\n",
              " \n",
              "一、净土五经菁华\n",
              " \n",
              "佛说阿弥陀经\n",
              " \n",
              "※从是西方过十万亿佛土。有世界名曰极乐。其土有佛。号阿弥陀。令现在说法。\n",
              " \n",
              "※其国众生。无有众苦。但受诸乐。故名极乐。\n",
              " \n",
              "※彼佛国土。无三恶道。舍利弗。其佛国土。尚无恶道之名。何况有实。\n",
              " \n",
              "※彼佛光明无量。照十方国。无所障碍。是故号为阿弥陀。\n",
              " \n",
              "※彼佛寿命。及其人民。无量无边阿僧祇劫。故名阿弥陀。\n",
              " \n",
              "※阿弥陀佛成佛以来。于今十劫。\n",
              " \n",
              "※极乐国土。众生生者。皆是阿鞞跋致。\n",
              " \n",
              "※众生闻者。应当发愿。愿生彼国。所以者何。得与如是诸上善人。俱会一处。\n",
              " \n",
              "※不可以少善根福德因缘。得生彼国。\n",
              " \n",
              "※若有善男子。善女人。闻说阿弥陀佛。执持名号。若一日。若二日。若三日。若四日。若五日。若六日。若七日。一心不乱。其人临命终时。阿弥陀佛。与诸圣众。现在其前。是人终时。心不颠倒。即得往生阿弥陀佛极乐国土。\n",
              " \n",
              "※若有众生。闻是说者。应当发愿。生彼国土。\n",
              " \n",
              "※汝等众生。当信是称赞不可思议功德。一切诸佛所护念经。\n",
              " \n",
              "※若有善男子。善女人。闻是经受持者。及闻诸佛名者。是诸善男子。善女人。皆为一切诸佛之所护念。皆得不退转于阿耨多罗三藐三菩提。\n",
              " \n",
              "※汝等皆当信受我语。及诸佛所说。\n",
              " \n",
              "※若有人。已发愿。今发愿。当发愿。欲生阿弥陀佛国者。是诸人等。皆得不退转于阿耨多罗三藐三菩提。于彼国土。若已生。若今生。若当生。\n",
              " \n",
              "※诸善男子。善女人。若有信者。应当发愿。生彼国土。\n",
              " \n",
              "※当知我于五浊恶世。行此难事。得阿耨多罗三藐三菩提。为一切世间说此难信之法。是为甚难。\n",
              " \n",
              "佛说无量寿经\n",
              " \n",
              "※阿弥陀佛四十八大愿\n",
              " \n",
              "一、国无恶道愿。        二、不堕恶趣愿。\n",
              "三、身悉金色愿。        四、三十二相愿。\n",
              "五、身无差别愿。        六、宿命通愿。\n",
              "七、天眼通愿。          八、天耳通愿。\n",
              "九、他心通愿。          十、神足通愿。\n",
              "十一、遍供诸佛愿。      十二、定成正觉愿。\n",
              "十三、光明无量愿。      十四、触光安乐愿。\n",
              "十五、寿命无量愿。      十六、声闻无数愿。\n",
              "十七、诸佛称叹愿。      十八、十念必生愿。\n",
              "十九、闻名发心愿。      二十、临终接引愿。\n",
              "二十一、悔过得生愿。    二十二、国无女人愿。\n",
              "二十三、厌女转男愿。    二十四、莲华化生愿。\n",
              "二十五、天人礼敬愿。    二十六、闻名得福愿。\n",
              "二十七、修殊胜行愿。    二十八、国无不善愿。\n",
              "二十九、住正定聚愿。    三十、乐如漏尽愿。\n",
              "三十一、不贪计身愿。    三十二、那罗延身愿。\n",
              "三十三、光明慧辩愿。    三十四、善谈法要愿。\n",
              "三十五、一生补处愿。    三十六、教化随意愿。\n",
              "三十七、衣食自至愿。    三十八、应念受供愿。\n",
              "三十九、庄严无尽愿。    四十、无量色树愿。\n",
              "四十一、树现佛刹愿。    四十二、彻照十方愿。\n",
              "四十三、宝香普熏愿。    四十四、普等三昧愿。\n",
              "四十五、定中供佛愿。    四十六、获陀罗尼愿。\n",
              "四十七、闻名得忍愿。    四十八、现证不退愿。\n",
              " \n",
              "※我作佛时。十方众生。闻我名号。至心信乐。所有善根。心心回向。愿生我国。乃至十念。若不生者。不取正觉。唯除五逆。诽谤正法。\n",
              " \n",
              "※常运慈心拔有情。度尽无边苦众生。\n",
              " \n",
              "※善护口业。不讥他过。\n",
              "善护身业。不失律仪。\n",
              "善护意业。清净无染。\n",
              " \n",
              "※现在西方。去阎浮提百十俱胝那由他佛刹。有世界名曰极乐。法藏成佛。号阿弥陀。成佛以来、于今十劫。今现在说法。\n",
              " \n",
              "※阿弥陀佛威神光明。最尊第一。十方诸佛。所不能及。\n",
              " \n",
              "※惟阿弥陀佛。光明普照无量无边无数佛刹。\n",
              " \n",
              "※阿弥陀佛。光明善好。胜于日月之明。十亿万倍。光中极尊。佛中之王。\n",
              " \n",
              "※十方世界诸往生者。皆于七宝池莲华中。自然化生。悉受清虚之身。无极之体。不闻三涂恶脑苦难之名。尚无假设。何况实苦。但有自然快乐之音。是故彼国名为极乐。\n",
              " \n",
              "※发菩提心。一向专念。阿弥陀佛。修诸功德。愿生彼国。此等众生。临寿终时。阿弥陀佛。与诸圣众。现在其前。经须臾间。即随彼佛往生其国。\n",
              " \n",
              "※其有众生欲于今世见阿弥陀佛者。应发无上菩提之心。复当专念极乐国土。积集善根。应持回向。由此见佛。生彼国中。得不退转。乃至无上菩提。\n",
              " \n",
              "※当发无上菩提之心。一向专念。阿弥陀佛。\n",
              " \n",
              "※要当孝顺。至诚忠信。当信佛经语深。当信作善得福。\n",
              " \n",
              "※诸往生者。皆得阿惟越致。皆具金色三十二相。皆当作佛。\n",
              " \n",
              "※无量无数不可思议无有等等无边世界。诸佛如来。皆共称赞无量寿佛所有功德。\n",
              " \n",
              "※其佛本愿力。闻名欲往生。自致不退转。\n",
              " \n",
              "※世间善男子。善女人。若有急难恐怖。但自归命观世音菩萨。无不得解脱者。\n",
              " \n",
              "※八方上下。佛国无数。阿弥陀国。长久广大。明好快乐。最为独胜。\n",
              " \n",
              "※诸佛密藏。究竟明了。\n",
              " \n",
              "※世人共争不急之务。于此剧恶极苦之中。勤身营务。以自给济。尊卑。贫富。少长。男女。累念积虑。为心走使。无田忧田。无宅忧宅。眷属财物。有无同忧。\n",
              " \n",
              "※人在爱欲之中。独生独死。独去独来。苦乐自当。无有代者。\n",
              " \n",
              "※何不于强健时。努力修善。欲何待乎。\n",
              " \n",
              "※惑道者众。悟道者少。各怀杀毒。恶气冥冥。为妄兴事。违逆天地。\n",
              " \n",
              "※爱欲荣华。不可常保。皆当别离。无可乐者。当勤精进。生安乐国。\n",
              " \n",
              "※天地之间。自然有是。虽不即时报应。善恶会当归之。\n",
              " \n",
              "※天地之间。五道分明。善恶报应。祸福相承。身自当之。无谁代者。\n",
              " \n",
              "※云何第一。当自端心。当自端身。耳目口鼻。皆当自端。身心净洁。与善相应。\n",
              " \n",
              "※当知疑惑。于诸菩萨为大损害。为失大利。是故应当明信诸佛无上智慧。\n",
              " \n",
              "※若以无相智慧。植众德本。身心清净。远离分别。求生净刹。趣佛菩提。当生佛刹。永得解脱。\n",
              " \n",
              "※若有善男子。善女人。得闻阿弥陀佛名号。能生一念喜爱之心。归依瞻礼。如说修行。当知此人为得大利。当获如上所说功德。心无下劣。亦不贡高。成就善根。悉皆增上。当知此人非是小乘。于我法中。得名第一弟子。\n",
              " \n",
              "佛说观无量寿佛经\n",
              " \n",
              "※欲生彼国者。当修三福。\n",
              " \n",
              "一者。孝养父母。奉事师长。慈心不杀。修十善业。\n",
              "二者。受持三归。具足众戒。不犯威仪。\n",
              "三者。发菩提心。深信因果。读诵大乘。劝进行者。\n",
              " \n",
              "如此三事。名为净业。\n",
              " \n",
              "此三种业。乃是过去未来现在。三世诸佛。净业正因。\n",
              " \n",
              "※诸佛如来。是法界身。遍入一切众生心想中。是故汝等心想佛时。是心即是三十二相。八十随形好。是心作佛。是心是佛。\n",
              " \n",
              "※佛心者。大慈悲是。以无缘慈。摄诸众生。\n",
              " \n",
              "※见无量寿佛者。即见十方无量诸佛。\n",
              " \n",
              "※称南无阿弥陀佛。称佛名故。于念念中除八十亿劫生死之罪。\n",
              " \n",
              "※若善男子及善女人。但闻佛名。二菩萨名。除无量劫生死之罪。何况忆念。若念佛者。当知此人。则是人中分陀利华。\n",
              " \n",
              "※汝好持是语。持是语者。即是持无量寿佛名。\n",
              " \n",
              "楞严经大势至菩萨念佛圆通章\n",
              " \n",
              "※若众生心。忆佛念佛。现前当来。必定见佛。去佛不远。不假方便。自得心开。\n",
              " \n",
              "※佛问圆通。我无选择。都摄六根。净念相继。得三摩地。斯为第一。\n",
              " \n",
              "华严经普贤菩萨行愿品\n",
              " \n",
              "※普贤菩萨十大愿王\n",
              " \n",
              "一者。礼敬诸佛。        二者。称赞如来。\n",
              "三者。广修供养。        四者。忏悔业障。\n",
              "五者。随喜功德。        六者。请转法轮。\n",
              "七者。请佛住世。        八者。常随佛学。\n",
              "九者。恒顺众生。        十者。普皆回向。\n",
              " \n",
              "※忏悔业障者。菩萨自念。我于过去无始劫中。由贪嗔痴。发身口意。作诸恶业。无量无边。若此恶业有体相者。尽虚空界。不能容受。我今悉以清净三业。遍于法界极微尘刹。一切诸佛菩萨众前。诚心忏悔。后不复造。恒住净戒。\n",
              " \n",
              "※菩萨若能随顺众生。则为随顺供养诸佛。若于众生尊重承事。"
            ],
            "text/plain": [
              "<IPython.core.display.Markdown object>"
            ]
          },
          "execution_count": 13,
          "metadata": {},
          "output_type": "execute_result"
        }
      ],
      "source": [
        "Markdown(final_chunks[0])"
      ]
    },
    {
      "cell_type": "code",
      "execution_count": 15,
      "metadata": {
        "colab": {
          "base_uri": "https://localhost:8080/",
          "height": 1000
        },
        "id": "MjC04LezATAT",
        "outputId": "3c33ff5b-bf8d-4a91-cecd-873f9323a8d4"
      },
      "outputs": [
        {
          "data": {
            "text/markdown": [
              "Okay, here is a translation of the provided text, aiming for accuracy and readability, while maintaining a tone appropriate for a Buddhist text:\n",
              "\n",
              "**A Compilation of Exhortations on Practice**\n",
              "\n",
              "Collected by the Kaohsiung Pure Land Society\n",
              "\n",
              "**Foreword**\n",
              "\n",
              "The Buddha Dharma is the most magnificent treasure in the human world. The Buddha, through the ultimate, perfect, unsurpassed, and equitably enlightened realization of an awakened being, revealed the truths of the universe and human life, the principles of karmic cause and effect, and the methods for pursuing a healthy, happy, and fulfilling life. These methods lead to liberation from the six realms of transmigration and the cycle of birth and death. He fully laid out this teaching for all future generations to find peace in the present and liberation at the end of life.\n",
              "\n",
              "However, from the Dharma's golden age in India two or three thousand years ago to its introduction to China during the Eastern Han Dynasty, which marked the beginning of the Semblance Dharma Age, and then to the late Ming and early Qing Dynasties, when it entered the Degenerate Dharma Age, the Buddha had long foreseen that the Dharma's fortune would gradually decline. This was because, in the Degenerate Dharma Age, people’s hearts would become increasingly corrupt, ethics more shallow, the world's chaos would intensify, and the maladies within Buddhist communities would continually worsen. Nonetheless, the Buddha's teachings are flawless. The spirit and essence of the Dharma have not changed. It is simply that beings in the Degenerate Dharma Age have deep karmic hindrances, meager blessings, shallow wisdom, and inferior faculties. Those who propagate the Dharma fail to understand the needs of beings, teachings are flawed, practitioners blindly practice, and learning is deficient. Even demonic and heretical paths infiltrate Buddhist communities, using distorted Dharma to seek fame, gain, and amass wealth. In the Degenerate Dharma Age, heretical teachers appear like the sands of the Ganges. If practitioners are not careful, they can easily stray from the spirit and essence of Buddhism, fall into evil traps, and become unwitting servants of demons.\n",
              "\n",
              "In the Degenerate Dharma Age, it is difficult to encounter good and wise teachers and even harder to meet enlightened masters. Everywhere there are outwardly radiant but inconsistent heretical teachers, and everywhere there are the blind leading the blind, gathering disciples like demons. If practitioners cannot distinguish right from wrong and lack steadfast views, they easily follow the crowd, absorb demonic views, go astray, and plunge themselves into eternal suffering. This is a matter that should never be taken lightly.\n",
              "\n",
              "In fact, the safest and most reliable method for practicing Buddhism in the Degenerate Dharma Age is to ‘take the ancients as our teachers.’ We should take the great masters of past generations, with their lofty aspirations and renowned achievements, as our guides and their precious teachings as the mottos for our own practice. Among those closest to our time and most revered by the masses, Master Yin Guang stands out. Therefore, the ‘Complete Works of Master Yin Guang,’ the ‘Selected Excerpts from Master Yin Guang's Essays,’ and the ‘Selected Q&A from the Complete Works of Master Yin Guang’ are the canon that those aspiring to learn Buddhism should respect and review daily. By constantly reading Master Yin Guang's writings and striving to put them into practice, we are constantly drawing near to him and becoming his direct disciples. Through this kind of practice, we can be certain to achieve daily progress and success!\n",
              "\n",
              "This book, “Exhortations on Practice,” aims to extract the most essential insights from the Buddha’s sutras, combined with the most important instructions from the teachings of great masters, so that we ordinary beings of the Degenerate Dharma Age can quickly grasp the key points of Buddhist practice. By putting them into practice, we can successfully follow in the footsteps of the Buddha and past masters and embark on the broad path to peace and liberation!\n",
              "\n",
              "**Ten Essential Points for Practice**\n",
              "\n",
              "**1. Filial Piety Towards Parents**\n",
              "\n",
              "Buddhism regards filial piety as the foundation. Filial piety toward parents is the greatest root of the Buddhist path and the most basic element of being human. Even crows know how to repay their parents’ kindness. If we cannot be filial to our parents, are we not worse than beasts?\n",
              "\n",
              "Our parents are the greatest fields of merit in our lives. The merit of being filial to parents is no different from that of being filial to the Buddha. The inability to be filial to parents is the greatest mistake in life. Those who are unfilial do not even have the basic qualifications to practice Buddhism.\n",
              "\n",
              "Furthermore, persuading our parents to have faith, vow to be reborn in the West, and be forever liberated from the suffering of transmigration is the most ultimate and complete form of filial piety.\n",
              "\n",
              "**2. Fulfilling One's Duties**\n",
              "\n",
              "In this world, each person has their own duties and responsibilities. Practitioners of Buddhism should be diligent in their work, setting an example for their families, society, and nation. Being filial to parents, educating children, caring for the family, benefiting society, and serving the country – these are the marks of a true practitioner. To avoid one's responsibilities and fail to fulfill one's duties while claiming to be a practitioner is self-deception. One will not achieve anything in this way.\n",
              "\n",
              "**3. Deep Faith in Karma**\n",
              "\n",
              "The heart of all Buddhist teachings is the principle of cause and effect. Planting good causes will surely lead to good results, and planting evil causes will surely lead to evil results. The law of karma is infallible. If retribution is not seen, it's merely because the time is not yet ripe. Practitioners of Buddhism should deeply believe in karma, take the precepts as their teacher, reflect daily, and constantly correct their faults.\n",
              "\n",
              "Furthermore, those who practice mindfulness of the Buddha deeply believe that planting the good seed of Buddha recitation will surely lead to the good result of Buddhahood. This is the most profound of karmic principles.\n",
              "\n",
              "**4. Abstaining from Killing and Eating Meat**\n",
              "\n",
              "Practitioners of Buddhism should avoid all evil deeds, making every effort to cut off all sinful behavior. Among all sins, the sin of killing and eating meat is the gravest. This is because what beings value most is their own lives. To kill them and eat them is the source of their deepest resentment, creating the deepest karmic debts. In the future, these debts will surely be repaid with blood and suffering. Therefore, among all evils, abstaining from killing and eating meat is the most urgent!\n",
              "\n",
              "**5. Releasing Lives and Saving Beings**\n",
              "\n",
              "Practitioners of Buddhism should practice all good deeds, making every effort to act whenever opportunities arise. Among all good acts, releasing lives is paramount. This is because it is an act of emergency rescue, with the greatest merit, far surpassing other minor acts of good. What beings value most is their own lives. To release and save them elicits their deepest gratitude, establishing the deepest good karmic connections. Future blessings will be incredible. Therefore, among all good deeds, releasing lives and saving beings should be prioritized!\n",
              "\n",
              "**6. Utmost Sincerity and Reverence**\n",
              "\n",
              "Sincerity and respect are the foundations for accomplishing any endeavor in the world. Master Yin Guang further teaches that we should exert ourselves to the utmost, putting sincerity and respect into practice in the most extreme way. With a bit of sincerity and respect, we gain a bit of merit. With full sincerity and respect, we gain full merit. This is the miraculous secret to success in Buddhist practice that everyone must remember!\n",
              "\n",
              "**7. Awakening the Bodhi Mind**\n",
              "\n",
              "The merit of Buddhist practice is directly proportional to the breadth of one's heart. The greater the heart, the greater the merit. Therefore, practitioners of Buddhism must have a vast heart. They should never do anything for selfish gain! They must truly awaken within their hearts a sincere desire to benefit all sentient beings. We aspire to achieve Buddhahood and, upon doing so, will have the ability to liberate all beings. We guide beings, aspiring to share the essence of the Dharma with the masses whenever the opportunity arises.\n",
              "\n",
              "Furthermore, the sincere desire to be reborn in the Western Pure Land is the true awakening of the Bodhi Mind.\n",
              "\n",
              "**8. Bowing to the Buddha and Repenting**\n",
              "\n",
              "The sins we have committed throughout countless lifetimes, if they had a physical form, would be more vast than empty space itself. We are, in reality, but ordinary beings burdened with deep karmic hindrances. Therefore, practitioners of Buddhism must cultivate a sense of shame and repentance and diligently perform prostrations. One prostration can eliminate countless sins. Prostrating and repenting is the best way to express our sincerity, respect, and self-reflection.\n",
              "\n",
              "**9. Faith, Vow, and Mindfulness of the Buddha**\n",
              "\n",
              "The Pure Land path relies on the Buddha’s power for salvation. Faith means believing that there is an Amitabha Buddha in the Western Pure Land. Vow means sincerely wanting to be reborn in that land and to leave this suffering world. Practice means to wholeheartedly recite the holy name “Namo Amitabha Buddha.” As long as one possesses the three provisions of faith, vow, and practice, one can, in this very lifetime, rely on Amitabha Buddha's great vows for salvation, escape the cycle of birth and death, and end transmigration forever. This is the deepest, most wondrous, most special, and most convenient of all Buddhist paths!\n",
              "\n",
              "Logically speaking, a single recitation of ‘Amitabha Buddha’ relies on the Buddha's power for salvation and is a completely, absolutely guaranteed way to be reborn in the Western Pure Land. However, why are there so many people reciting the Buddha’s name now, yet so few actually reborn in the Pure Land?\n",
              "\n",
              "This is a very serious and critical issue. The reason why people reciting the Buddha's name today fail to be reborn is that they ‘lack faith and vow, fear death, and do not genuinely desire rebirth.’ Most people recite the Buddha’s name simply to seek longevity, health, peace, wealth, and worldly success. They absolutely do not seek rebirth in the Western Pure Land!\n",
              "\n",
              "The single word ‘death’ can be used to test whether a practitioner of mindfulness of the Buddha possesses genuine faith and vow. Ask yourself, are you afraid of death? If you had to die now, and Amitabha Buddha was ready to receive you into the Western Pure Land, would you be willing? A true practitioner who detests this Saha world and rejoices in the Pure Land would surely view death as going home and be willing to go with Amitabha Buddha to the Western Pure Land as soon as possible. They would absolutely not be afraid of death. They would welcome death and be ready to be reborn at any time. However, the hypocritical and falsely devoted practitioners are attached to life and afraid of death. They do not want to die or be reborn. They make excuses and cling to life. They want to live a few more years. Know this: this single fear of death, this unwillingness to die, this unwillingness to be reborn is contrary to Amitabha Buddha's heart. If one lacks the three provisions of faith, vow, and practice, how can one successfully be reborn in the Western Pure Land?\n",
              "\n",
              "Most people reciting the Buddha's name today are, in fact, false practitioners. The word 'death' must be constantly kept in mind so we can test ourselves. As long as a practitioner is not afraid of death, welcomes death, and is ready to be reborn in the Pure Land as soon as possible, they are truly a person who \"detests the Saha world and rejoices in the Pure Land.\" Such a person, whether they recite the Buddha's name one thousand times or ten thousand times, will surely be reborn in the Pure Land!\n",
              "\n",
              "**10. Practice and Implementation**\n",
              "\n",
              "The most important thing in Buddhism is practice. An old woman who is illiterate, who doesn't understand the scriptures, who only knows to eat vegetarian food, prostrate before the Buddha, and sincerely recite 'Amitabha Buddha' often achieves more than a renowned scholar who is eloquent and has mastered the three canons. The key is whether one is able to practice and implement. Knowledge without action is like fighting battles on paper or counting treasures in a dream. It is ultimately futile!\n",
              "\n",
              "In conclusion, in the study of Buddhism, one should strive for focus and avoid distractions. As long as one grasps the key points and strives to implement them, one will truly realize the practical benefits of the Dharma.\n",
              "\n",
              "**II. Essence of the Five Pure Land Sutras**\n",
              "\n",
              "**The Amitabha Sutra (Buddha Speaks of Amitabha)**\n",
              "\n",
              "*   “From here, passing over hundreds of thousands of millions of Buddha lands to the West, there is a world called ‘Ultimate Bliss’. In that land, there is a Buddha named Amitabha, now teaching the Dharma.”\n",
              "*   “The sentient beings of that country experience no suffering, but only various joys. Hence, it is called ‘Ultimate Bliss’.”\n",
              "*   “In that Buddha land, there are no three evil paths. Shariputra, in that Buddha land, even the names of evil paths do not exist, let alone the reality.”\n",
              "*   “The Buddha's light is immeasurable, illuminating all the lands of the ten directions without obstruction. Therefore, He is called Amitabha.”\n",
              "*   “The Buddha's lifespan and that of His people is immeasurable and without limit of Asankheya Kalpas. Therefore, He is called Amitabha.”\n",
              "*   “Since Amitabha Buddha attained Buddhahood, ten kalpas have passed until now.”\n",
              "*   “In the land of Ultimate Bliss, all those born are non-retrogression (Avivartika).”\n",
              "*   “Sentient beings, upon hearing this, should make a vow to be born in that land. Why is that? Because they will be able to meet and be together with all the supreme sages.”\n",
              "*   “One cannot be born in that land with a small amount of roots of goodness, merits, and causes.”\n",
              "*   “If a good man or good woman, hearing of Amitabha Buddha, hold onto His name, if for one day, two days, three days, four days, five days, six days, or seven days, with focused concentration, at the time of their death, Amitabha Buddha and His assembly of sages will appear before them. At the time of death, their minds will not be confused, and they will be born in the land of Ultimate Bliss of Amitabha Buddha.”\n",
              "*   “If there are sentient beings who hear these words, they should make the vow to be born in that land.”\n",
              "*   “You sentient beings, should believe in the praise of the inconceivable merit of this sutra that is protected by all Buddhas.”\n",
              "*   “If a good man or good woman, upon hearing this sutra, accepts it, upholds it, and hears the names of the Buddhas, all these good men and women will be protected by all the Buddhas, and they shall all attain non-retrogression from Anuttara-Samyak-Sambodhi.”\n",
              "*   “You all should believe and accept my words and the words of all the Buddhas.”\n",
              "*   “If there is anyone who has already made a vow, is making a vow, or will make a vow to be born in Amitabha Buddha’s land, all of these people will attain non-retrogression from Anuttara-Samyak-Sambodhi. In that land, whether they have already been born, are being born now, or will be born, all will attain enlightenment.”\n",
              "*   “All good men and good women, if they have faith, should make the vow to be born in that land.”\n",
              "*   “Know that I, in this world of five turbidities, have accomplished this difficult thing and attained Anuttara-Samyak-Sambodhi and have taught this difficult-to-believe Dharma to all sentient beings. This is truly difficult.”\n",
              "\n",
              "**The Infinite Life Sutra (Buddha Speaks of Immeasurable Life)**\n",
              "\n",
              "*   **The Forty-Eight Great Vows of Amitabha Buddha**\n",
              "    1.  Vow of No Evil Paths in the Land\n",
              "    2.  Vow of Not Falling into Evil Realms\n",
              "    3.  Vow of Golden Bodies\n",
              "    4.  Vow of Thirty-Two Marks\n",
              "    5.  Vow of Undifferentiated Bodies\n",
              "    6.  Vow of Knowing Past Lives\n",
              "    7.  Vow of Heavenly Vision\n",
              "    8.  Vow of Heavenly Hearing\n",
              "    9.  Vow of Knowing Others’ Minds\n",
              "    10. Vow of Divine Powers\n",
              "    11. Vow of Universal Offerings\n",
              "    12. Vow of Achieving Buddhahood\n",
              "    13. Vow of Immeasurable Light\n",
              "    14. Vow of Blissful Touch of Light\n",
              "    15. Vow of Immeasurable Lifespan\n",
              "    16. Vow of Countless Hearers\n",
              "    17. Vow of Praise by All Buddhas\n",
              "    18. Vow of Sure Rebirth with Ten Recitations\n",
              "    19. Vow of Faith and Vow upon Hearing the Name\n",
              "    20. Vow of Receiving at Death\n",
              "    21. Vow of Rebirth after Repentance\n",
              "    22. Vow of No Women in the Land\n",
              "    23. Vow of Transforming from Women to Men\n",
              "    24. Vow of Being Born from Lotuses\n",
              "    25. Vow of Respect from Gods and Humans\n",
              "    26. Vow of Receiving Blessings upon Hearing the Name\n",
              "    27. Vow of Cultivating Superior Practices\n",
              "    28. Vow of No Evil in the Land\n",
              "    29. Vow of Dwelling in the Rightly Established State\n",
              "    30. Vow of Joy Like the Extinction of Leakages\n",
              "    31. Vow of Not Clinging to the Body\n",
              "    32. Vow of Narayana Body\n",
              "    33. Vow of Light and Wisdom\n",
              "    34. Vow of Skillful Dharma Teaching\n",
              "    35. Vow of One Lifetime to Buddhahood\n",
              "    36. Vow of Teaching at Will\n",
              "    37. Vow of Self-Provided Clothing and Food\n",
              "    38. Vow of Receiving Offerings on Demand\n",
              "    39. Vow of Inexhaustible Adornment\n",
              "    40. Vow of Infinite Number of Colorful Trees\n",
              "    41. Vow of Trees Reflecting Buddha Lands\n",
              "    42. Vow of Illumination of the Ten Directions\n",
              "    43. Vow of Incense Permeating the Universe\n",
              "    44. Vow of Universal Samadhi\n",
              "    45. Vow of Offering to Buddhas in Samadhi\n",
              "    46. Vow of Acquiring Dharani\n",
              "    47. Vow of Obtaining Tolerance Upon Hearing the Name\n",
              "    48. Vow of Immediate Non-Retrogression\n",
              "\n",
              "*   “When I achieve Buddhahood, if sentient beings of the ten directions, upon hearing my name, wholeheartedly believe and rejoice, and dedicate all their roots of goodness, aspiring to be born in my land, even if with only ten recitations, if they are not reborn, then I will not achieve perfect enlightenment. The exception is for those who commit the five heinous crimes or slander the true Dharma.”\n",
              "*   “Constantly use compassion to liberate sentient beings, completely liberating all suffering beings.”\n",
              "*   “Carefully guard your speech, not criticizing others’ faults.\n",
              "Carefully guard your body, not straying from the precepts.\n",
              "Carefully guard your mind, with purity and no defilements.”\n",
              "*   “To the West, past billions of Buddha lands, there is a world called Ultimate Bliss. The Dharma Treasury has become a Buddha named Amitabha. Since achieving Buddhahood, ten kalpas have passed until now. He is now teaching the Dharma.”\n",
              "*   “The majesty and light of Amitabha Buddha is the most honored and supreme, beyond the reach of all Buddhas in the ten directions.”\n",
              "*   “Only Amitabha Buddha's light illuminates limitless, boundless, and countless Buddha lands.”\n",
              "*  “The light of Amitabha Buddha is good and magnificent, surpassing the light of the sun and moon by ten billion times. His light is the most revered, and He is the King among Buddhas.”\n",
              "*   “All those who are reborn in the ten directions are born naturally in the seven-jeweled lotus ponds. They receive bodies of pure emptiness and infinite forms. They do not hear the names of the three evil paths. Even the concept of suffering is non-existent, let alone the actual suffering. There is only the sound of natural joy. Therefore, that country is called Ultimate Bliss.”\n",
              "*   “If one awakens the Bodhi mind, single-mindedly recites Amitabha Buddha, cultivates various merits, and vows to be born in that land, at the end of their life, Amitabha Buddha and His assembly of sages will appear before them. In an instant, they will follow that Buddha and be reborn in his country.”\n",
              "*   “If there are sentient beings who wish to see Amitabha Buddha in this lifetime, they should awaken the unsurpassed Bodhi mind. They should also single-mindedly recite the name of the land of Ultimate Bliss, accumulate good roots, and dedicate them. By doing so, they will see the Buddha, be born in that land, attain non-retrogression, and achieve unsurpassed enlightenment.”\n",
              "*   “You must awaken the unsurpassed Bodhi mind and single-mindedly recite Amitabha Buddha.”\n",
              "*   “You must be filial and sincerely faithful. Believe in the profound words of the Buddha’s sutras and believe that good deeds bring good fortune.”\n",
              "*   “All who are reborn attain non-retrogression, possess the thirty-two marks of a Buddha, and will all become Buddhas.”\n",
              "*   “There are limitless, countless, inconceivable, incomparable, and boundless worlds where all the Buddhas and Tathagatas praise the merits of Amitabha Buddha.”\n",
              "*   “The Buddha's original vows have the power that upon hearing his name, those who wish to be reborn in that land will naturally attain non-retrogression.”\n",
              "*   “Worldly men and women, if they are in sudden distress, should take refuge in Avalokiteshvara Bodhisattva. There is no one who will not be liberated.”\n",
              "*   “In the eight directions and above and below, there are countless Buddha lands. Amitabha’s land is vast, long-lasting, bright, and happy. It is supremely unique.”\n",
              "*   “The secret treasures of all Buddhas are completely understood.”\n",
              "*   “People in the world contend for unimportant things. In this extremely evil and suffering world, they diligently work to sustain themselves. The high and low, rich and poor, young and old, men and women, are constantly thinking and worrying, driven by their minds. Without fields, they worry about fields. Without homes, they worry about homes. They worry about whether they have or do not have families and possessions.”\n",
              "*  “People, amidst their cravings and desires, are born alone, die alone, leave alone, and return alone. They experience suffering and joy alone. No one can replace them.”\n",
              "*  “Why not strive to practice good when you are strong and healthy? What are you waiting for?”\n",
              "*   “There are many who are deluded, and few who are enlightened. Each harbors malicious intentions. Evil permeates the world. They recklessly act against the way of heaven and earth.”\n",
              "*   “Love, desire, and glory are not permanent. All will be separated. There is nothing to rejoice in. You should strive diligently to be born in the land of peace and bliss.”\n",
              "*   “Between heaven and earth, things happen naturally. Even if retribution is not immediate, good and evil will always return in due time.”\n",
              "*   “Between heaven and earth, the five paths of rebirth are clear. Good and evil deeds have their corresponding retributions. Misfortunes and blessings follow one another. Everyone must bear their own consequences. No one can take their place.”\n",
              "*   “What is paramount? One should correct one’s own mind. One should correct one’s own body. The ears, eyes, mouth, and nose should all be corrected. Keep one’s mind and body pure, aligning with goodness.”\n",
              "*   “Know that doubt is a great harm to all Bodhisattvas. It leads to the loss of great benefits. Therefore, one should clearly believe in the unsurpassed wisdom of all Buddhas.”\n",
              "*   “If you use formless wisdom to cultivate roots of merit, purify the body and mind, separate from discrimination, seek rebirth in the Pure Land, aspire to Buddhahood, you will be born in a Buddha land and attain eternal liberation.”\n",
              "*  “If good men and women hear the name of Amitabha Buddha and can generate a single thought of joyful fondness, take refuge in Him, respectfully worship Him, and practice as taught, know that these people have gained great benefit and have acquired the merits spoken of above. Their minds will not be inferior or arrogant. All of their good roots will increase. Know that such people are not of the Small Vehicle. In my Dharma, they are called the foremost disciples.”\n",
              "\n",
              "**The Contemplation Sutra (Buddha Speaks of Contemplation of Immeasurable Life)**\n",
              "\n",
              "*   \"Those who wish to be born in that land should cultivate three types of good conduct.\"\n",
              "    *  \"First: Filial piety towards parents, serving teachers and elders, compassionately refraining from killing, and cultivating the ten good deeds.\"\n",
              "    *  \"Second: Accepting and upholding the three refuges, fulfilling all precepts, and not violating decorum.\"\n",
              "    *  \"Third: Awakening the Bodhi mind, deeply believing in karma, reciting the Mahayana sutras, and encouraging others to practice.\"\n",
              "\n",
              "These three actions are called the pure karma. These three types of actions are the pure causes and conditions for the three Buddhas of the past, present, and future.\n",
              "\n",
              "*   “All Buddhas and Tathagatas are the Dharmakaya body, pervading the minds and thoughts of all sentient beings. Therefore, when you think of the Buddha, that thought is the thirty-two marks and eighty minor marks of a Buddha. That mind becomes the Buddha. That mind is the Buddha.”\n",
              "*   \"The mind of the Buddha is great compassion. With boundless compassion, it embraces all sentient beings.”\n",
              "*   \"Those who see Immeasurable Life Buddha will also see all the immeasurable Buddhas of the ten directions.\"\n",
              "*   “Reciting Namo Amitabha Buddha, because you recite the Buddha's name, in each moment, you eliminate the karmic hindrances of eighty billion kalpas of birth and death.”\n",
              "*   “If a good man or good woman, upon hearing the name of the Buddha and the names of the two Bodhisattvas, eliminate limitless kalpas of sins. How much more so by being mindful of them! If one is mindful of the Buddha, know that this person is like a lotus flower among humans.”\n",
              "*  “You must remember these words. To remember these words is to remember the name of Immeasurable Life Buddha.”\n",
              "\n",
              "**The Great Strength Bodhisattva Chapter on Perfect Enlightenment through Mindfulness of the Buddha (From the Shurangama Sutra)**\n",
              "\n",
              "*   “If sentient beings are mindful of the Buddha, they will surely see the Buddha in the present and in the future. They will not be far from the Buddha. Without relying on expedient methods, their minds will be opened naturally.”\n",
              "*   “When asked about perfect enlightenment, I have no choice. By gathering the six senses and maintaining pure mindfulness continuously, I have achieved samadhi. This is foremost.”\n",
              "\n",
              "**The Universal Worthy Bodhisattva’s Conduct and Vows Chapter (From the Flower Garland Sutra)**\n",
              "\n",
              "*   **The Ten Great Vows of Universal Worthy Bodhisattva**\n",
              "    1.  Bowing in Reverence to All Buddhas\n",
              "    2.  Praising the Tathagatas\n",
              "    3.  Making Extensive Offerings\n",
              "    4.  Repenting of Karmic Hindrances\n",
              "    5.  Rejoicing in the Merits of Others\n",
              "    6.  Requesting the Turning of the Dharma Wheel\n",
              "    7.  Requesting the Buddhas to Remain in the World\n",
              "    8.  Constantly Following the Teachings of the Buddha\n",
              "    9.  Always Accord with Sentient Beings\n",
              "    10. Dedicating All Merits Universally\n",
              "\n",
              "*   “When repenting of karmic hindrances, the Bodhisattva reflects: ‘In countless kalpas in the past, due to greed, anger, and ignorance, through body, speech, and mind, I have committed limitless, countless evil deeds. If these evil deeds had a physical form, the entire space of the universe could not contain them. Now, I will, with my pure three karmas, repent sincerely before all Buddhas and Bodhisattvas in the cosmos and all realms of infinite particles, vowing never to repeat them and to always uphold pure precepts.’”\n",
              "*   \"If Bodhisattvas can accord with sentient beings, then they are according with offering to all Buddhas. If one respects and serves sentient beings…\"\n",
              "\n",
              "This translation seeks to be both accurate and easily understood by a contemporary English-speaking audience while preserving the spirit and essence of the original Buddhist text.\n"
            ],
            "text/plain": [
              "<IPython.core.display.Markdown object>"
            ]
          },
          "execution_count": 15,
          "metadata": {},
          "output_type": "execute_result"
        }
      ],
      "source": [
        "Markdown(results[0])"
      ]
    },
    {
      "cell_type": "code",
      "execution_count": 16,
      "metadata": {
        "id": "jXlAr8smUzV_"
      },
      "outputs": [],
      "source": [
        "translated_texts = [result for result in results]\n",
        "\n",
        "# join the results together by double whitespace\n",
        "translated_book = \"\\n\\n\".join(translated_texts)\n",
        "\n",
        "# save the translated book\n",
        "with open(f\"translated_book1.txt\", \"w\") as f:\n",
        "  f.write(translated_book)"
      ]
    },
    {
      "cell_type": "markdown",
      "metadata": {
        "id": "eA-ro5jwk_uw"
      },
      "source": [
        "## Next steps\n",
        "\n",
        "Now you know how to properly prepare data, check token limitations and translate each chunk to obtain your results. Feel free to try this process with a book that interests you!"
      ]
    }
  ],
  "metadata": {
    "colab": {
      "include_colab_link": true,
      "provenance": []
    },
    "kernelspec": {
      "display_name": "Python 3",
      "name": "python3"
    }
  },
  "nbformat": 4,
  "nbformat_minor": 0
}
